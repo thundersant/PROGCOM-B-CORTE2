{
  "nbformat": 4,
  "nbformat_minor": 0,
  "metadata": {
    "colab": {
      "provenance": []
    },
    "kernelspec": {
      "name": "python3",
      "display_name": "Python 3"
    },
    "language_info": {
      "name": "python"
    }
  },
  "cells": [
    {
      "cell_type": "code",
      "execution_count": 5,
      "metadata": {
        "colab": {
          "base_uri": "https://localhost:8080/"
        },
        "id": "jWJyGIaRbrLV",
        "outputId": "50643bbb-4168-4530-cb17-8092e5e408da"
      },
      "outputs": [
        {
          "output_type": "stream",
          "name": "stdout",
          "text": [
            "ingresa un número3\n",
            "ingresa un número2\n",
            "3 es el mayor\n"
          ]
        }
      ],
      "source": [
        "#ejercicio 1\n",
        "a=int(input('ingresa un número'))\n",
        "b=int(input('ingresa un número'))\n",
        "def mayor(a,b):\n",
        "    if a>b:\n",
        "       print(f'{a} es el mayor')\n",
        "    else:\n",
        "        print(f'{b} es el mayor')\n",
        "mayor(a,b)        "
      ]
    },
    {
      "cell_type": "code",
      "source": [
        "#ejercicio 2\n",
        "a=int(input('ingresa un número'))\n",
        "b=int(input('ingresa un número'))\n",
        "c=int(input('ingresa un número'))\n",
        "def mayor2(a,b,c):\n",
        "  if a>b and a>c:\n",
        "    print(f'{a} es el mayor')\n",
        "  elif b>c and b>a:\n",
        "    print(f'{b} es el mayor')  \n",
        "  else:\n",
        "    print(f'{c} es el mayor')\n",
        "mayor2(a,b,c)      "
      ],
      "metadata": {
        "colab": {
          "base_uri": "https://localhost:8080/"
        },
        "id": "R2BD9CzugBhK",
        "outputId": "d00c382e-9061-4776-9052-84b12e720cde"
      },
      "execution_count": 9,
      "outputs": [
        {
          "output_type": "stream",
          "name": "stdout",
          "text": [
            "ingresa un número3\n",
            "ingresa un número2\n",
            "ingresa un número1\n",
            "3 es el mayor\n"
          ]
        }
      ]
    },
    {
      "cell_type": "code",
      "source": [
        "#ejercicio 3\n",
        "lista=[a,b,c]\n",
        "#listsum = sum(lista)\n",
        "#print (f'la suma de la lista es {listsum}')\n",
        "def suma (lista):\n",
        "  resul=lista[0]+lista[1]+lista[2]\n",
        "  return resul\n",
        "  print (suma(lista))\n",
        "suma(lista)"
      ],
      "metadata": {
        "colab": {
          "base_uri": "https://localhost:8080/"
        },
        "id": "bwoAf67SgcUn",
        "outputId": "33cfe5e0-7b49-4f02-ce8c-e875a8cbdd16"
      },
      "execution_count": 27,
      "outputs": [
        {
          "output_type": "execute_result",
          "data": {
            "text/plain": [
              "6"
            ]
          },
          "metadata": {},
          "execution_count": 27
        }
      ]
    },
    {
      "cell_type": "code",
      "source": [
        "#ejercicio 4\n",
        "a=int(input('ingresa un número'))\n",
        "b=int(input('ingresa un número'))\n",
        "c=int(input('ingresa un número'))\n",
        "d=int(input('ingresa un número'))\n",
        "sum4=[a,b,c,d]\n",
        "def suma (sum4):\n",
        "  resul=sum4[0]+sum4[1]+sum4[2]+sum4[3]\n",
        "  return resul\n",
        "  print (suma(sum4))\n",
        "suma(sum4)"
      ],
      "metadata": {
        "colab": {
          "base_uri": "https://localhost:8080/"
        },
        "id": "VTSIMZpvk3Cr",
        "outputId": "ba745103-6517-4e0e-c8d9-fb3dc27efd81"
      },
      "execution_count": 16,
      "outputs": [
        {
          "name": "stdout",
          "output_type": "stream",
          "text": [
            "ingresa un número3\n",
            "ingresa un número2\n",
            "ingresa un número1\n",
            "ingresa un número4\n"
          ]
        },
        {
          "output_type": "execute_result",
          "data": {
            "text/plain": [
              "10"
            ]
          },
          "metadata": {},
          "execution_count": 16
        }
      ]
    },
    {
      "cell_type": "code",
      "source": [
        "#ejercicio 5\n",
        "\n",
        "def sumtotallist(x):\n",
        "  a=len (x)\n",
        "  resul=0\n",
        "  for i in range (a):\n",
        "    resul= x[i]+ resul\n",
        "  print (resul)\n",
        "sumtotallist(sum4)   "
      ],
      "metadata": {
        "colab": {
          "base_uri": "https://localhost:8080/"
        },
        "id": "TSgm27Nem4cI",
        "outputId": "533555d5-e291-4569-9e42-99eae77cd806"
      },
      "execution_count": 22,
      "outputs": [
        {
          "output_type": "stream",
          "name": "stdout",
          "text": [
            "10\n"
          ]
        }
      ]
    },
    {
      "cell_type": "code",
      "source": [
        "#ejercicio 6\n",
        "multi=[a,b,c]\n",
        "#listsum = sum(lista)\n",
        "#print (f'la suma de la lista es {listsum}')\n",
        "def multiplicacion (multi):\n",
        "  resul=multi[0]*multi[1]*multi[2]\n",
        "  return resul\n",
        "  print (mult(multi))\n",
        "multiplicacion(multi)\n"
      ],
      "metadata": {
        "colab": {
          "base_uri": "https://localhost:8080/"
        },
        "id": "JT3IL8NlpDhW",
        "outputId": "ddfbc47c-eb43-4c91-83fc-190f5c1fae0a"
      },
      "execution_count": 29,
      "outputs": [
        {
          "output_type": "execute_result",
          "data": {
            "text/plain": [
              "6"
            ]
          },
          "metadata": {},
          "execution_count": 29
        }
      ]
    },
    {
      "cell_type": "code",
      "source": [
        "a=int(input('ingresa un número'))\n",
        "b=int(input('ingresa un número'))\n",
        "c=int(input('ingresa un número'))\n",
        "d=int(input('ingresa un número'))\n",
        "multi2=[a,b,c,d]\n",
        "def multi (multi2):\n",
        "  resul=multi2[0]*multi2[1]*multi2[2]*multi2[3]\n",
        "  return resul\n",
        "  print (multi(multi2))\n",
        "multi(multi2)"
      ],
      "metadata": {
        "colab": {
          "base_uri": "https://localhost:8080/"
        },
        "id": "CsEv-Cxbu7Fj",
        "outputId": "d2302773-85b9-41dc-8f30-ed486ddf5a95"
      },
      "execution_count": 30,
      "outputs": [
        {
          "name": "stdout",
          "output_type": "stream",
          "text": [
            "ingresa un número3\n",
            "ingresa un número3\n",
            "ingresa un número3\n",
            "ingresa un número3\n"
          ]
        },
        {
          "output_type": "execute_result",
          "data": {
            "text/plain": [
              "81"
            ]
          },
          "metadata": {},
          "execution_count": 30
        }
      ]
    },
    {
      "cell_type": "code",
      "source": [
        "def multotallist(g):\n",
        "  a=len (g)\n",
        "  resul=1\n",
        "  for i in range(a):\n",
        "    resul= g[i]* resul\n",
        "  print (resul)\n",
        "multotallist(multi2) "
      ],
      "metadata": {
        "colab": {
          "base_uri": "https://localhost:8080/"
        },
        "id": "4JcSbitUtsdr",
        "outputId": "78ef4fa2-023f-49c4-8cd7-87cef3680141"
      },
      "execution_count": 40,
      "outputs": [
        {
          "output_type": "stream",
          "name": "stdout",
          "text": [
            "81\n"
          ]
        }
      ]
    }
  ]
}