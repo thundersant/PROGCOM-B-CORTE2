{
  "nbformat": 4,
  "nbformat_minor": 0,
  "metadata": {
    "colab": {
      "provenance": []
    },
    "kernelspec": {
      "name": "python3",
      "display_name": "Python 3"
    },
    "language_info": {
      "name": "python"
    }
  },
  "cells": [
    {
      "cell_type": "code",
      "execution_count": null,
      "metadata": {
        "id": "-kzPUWgefAiE"
      },
      "outputs": [],
      "source": [
        "#lista por comprension\n",
        "#https://www.analyticslane.com/2019/09/23/listas-por-comprension-en-python/\n",
        "#https://www.tutorialesprogramacionya.com/pythonya/detalleconcepto.php?punto=94&codigo=95&inicio=90#:~:text=La%20comprensi%C3%B3n%20de%20listas%20es,forma%20m%C3%A1s%20concisa%20un%20algoritmo.\n",
        "\n",
        "#un programa que muestre en pantalla los números del 1 al 500, sustituyendo los múltiplos de 3 por el palabra \"mult 3\" y, a su vez, los múltiplos de 5 por \"mult 5\". \n",
        "#Para los números que, al tiempo, son múltiplos de 3 y 5, mostrar el mensaje \"FizzBuzz\".\n",
        "\n",
        "\n",
        "for nro in range (1,101):\n",
        "  if nro%3==0  and  nro%5==0:\n",
        "    print('mult de 3 y 5')\n",
        "  elif nro%3==0:\n",
        "    print('mult de 3')\n",
        "  elif nro%5==0:\n",
        "    print('mult de 5')\n",
        "  else:\n",
        "    print(nro)\n",
        "\n"
      ]
    },
    {
      "cell_type": "code",
      "source": [
        "print([\"mult de 3\"*(not nro%3) + \"mult de 5\"*(not nro%5) or nro for nro in range(1, 101)])"
      ],
      "metadata": {
        "colab": {
          "base_uri": "https://localhost:8080/"
        },
        "id": "utuSpSgFl7-y",
        "outputId": "e624a0c7-5471-4e07-d2f4-42382842ab6c"
      },
      "execution_count": null,
      "outputs": [
        {
          "output_type": "stream",
          "name": "stdout",
          "text": [
            "[1, 2, 'multiplo de 3', 4, 'multiplo de 5', 'multiplo de 3', 7, 8, 'multiplo de 3', 'multiplo de 5', 11, 'multiplo de 3', 13, 14, 'multiplo de 3multiplo de 5', 16, 17, 'multiplo de 3', 19, 'multiplo de 5', 'multiplo de 3', 22, 23, 'multiplo de 3', 'multiplo de 5', 26, 'multiplo de 3', 28, 29, 'multiplo de 3multiplo de 5', 31, 32, 'multiplo de 3', 34, 'multiplo de 5', 'multiplo de 3', 37, 38, 'multiplo de 3', 'multiplo de 5', 41, 'multiplo de 3', 43, 44, 'multiplo de 3multiplo de 5', 46, 47, 'multiplo de 3', 49, 'multiplo de 5', 'multiplo de 3', 52, 53, 'multiplo de 3', 'multiplo de 5', 56, 'multiplo de 3', 58, 59, 'multiplo de 3multiplo de 5', 61, 62, 'multiplo de 3', 64, 'multiplo de 5', 'multiplo de 3', 67, 68, 'multiplo de 3', 'multiplo de 5', 71, 'multiplo de 3', 73, 74, 'multiplo de 3multiplo de 5', 76, 77, 'multiplo de 3', 79, 'multiplo de 5', 'multiplo de 3', 82, 83, 'multiplo de 3', 'multiplo de 5', 86, 'multiplo de 3', 88, 89, 'multiplo de 3multiplo de 5', 91, 92, 'multiplo de 3', 94, 'multiplo de 5', 'multiplo de 3', 97, 98, 'multiplo de 3', 'multiplo de 5']\n"
          ]
        }
      ]
    },
    {
      "cell_type": "code",
      "source": [
        "#numero perfecto\n",
        "\n",
        "def perfecto(numero):\n",
        "  perf=0\n",
        "  for i in range (1,numero):\n",
        "    if numero %i==0:\n",
        "      perf+=i\n",
        "  if perf ==numero:\n",
        "    print('es numero perfecto')\n",
        "    return True\n",
        "  else:\n",
        "     print('no es numero perfecto')\n",
        "numero=6\n",
        "perfecto (numero)   "
      ],
      "metadata": {
        "colab": {
          "base_uri": "https://localhost:8080/"
        },
        "id": "loFDMhEtoc7p",
        "outputId": "688a83c6-456f-4e40-9bd7-a6c7f063ded3"
      },
      "execution_count": null,
      "outputs": [
        {
          "output_type": "stream",
          "name": "stdout",
          "text": [
            "es numero perfecto\n"
          ]
        },
        {
          "output_type": "execute_result",
          "data": {
            "text/plain": [
              "True"
            ]
          },
          "metadata": {},
          "execution_count": 6
        }
      ]
    },
    {
      "cell_type": "code",
      "source": [
        "def numeros():\n",
        "  a=int(input('ingresa un número'))\n",
        "  b=int(input('ingresa un número'))\n",
        "  c=int(input('ingresa un número'))\n",
        "  d=int(input('ingresa un número'))\n",
        "  perfect=[a,b,c,d]\n",
        "\n",
        "  perfect1=[elemento for elemento in perfect if perfecto(elemento)==True ]\n",
        "numeros()\n"
      ],
      "metadata": {
        "colab": {
          "base_uri": "https://localhost:8080/"
        },
        "id": "YnMEalWFohYx",
        "outputId": "a2cc9fc7-bcaa-45b5-d219-a3599a9650df"
      },
      "execution_count": null,
      "outputs": [
        {
          "output_type": "stream",
          "name": "stdout",
          "text": [
            "ingresa un número1\n",
            "ingresa un número2\n",
            "ingresa un número3\n",
            "ingresa un número6\n",
            "no es numero perfecto\n",
            "no es numero perfecto\n",
            "no es numero perfecto\n",
            "es numero perfecto\n"
          ]
        }
      ]
    },
    {
      "cell_type": "code",
      "source": [
        "lista=[2,3,6,4]\n",
        "#lambda y map\n",
        "perfect2=list(map(lambda elemento:perfecto(elemento)==True,lista))\n",
        "perfect2"
      ],
      "metadata": {
        "id": "91dWh-VPX8Bh"
      },
      "execution_count": null,
      "outputs": []
    },
    {
      "cell_type": "code",
      "source": [],
      "metadata": {
        "colab": {
          "base_uri": "https://localhost:8080/"
        },
        "id": "QYlVkVlLPI3_",
        "outputId": "76bb5a9d-fd92-41dd-d005-f68c23882982"
      },
      "execution_count": null,
      "outputs": [
        {
          "output_type": "stream",
          "name": "stdout",
          "text": [
            "no es numero perfecto\n",
            "no es numero perfecto\n",
            "es numero perfecto\n",
            "no es numero perfecto\n"
          ]
        },
        {
          "output_type": "execute_result",
          "data": {
            "text/plain": [
              "[False, False, True, False]"
            ]
          },
          "metadata": {},
          "execution_count": 14
        }
      ]
    },
    {
      "cell_type": "code",
      "source": [
        "#samuel\n",
        "\n",
        "numbers = [1, 2, 3, 4]\n",
        "results = [n + 1 for n in numbers if n < 5]\n",
        "results"
      ],
      "metadata": {
        "colab": {
          "base_uri": "https://localhost:8080/"
        },
        "id": "5m7DOD0rnQ23",
        "outputId": "9c66225a-058a-4406-9843-516ff76253d9"
      },
      "execution_count": null,
      "outputs": [
        {
          "output_type": "execute_result",
          "data": {
            "text/plain": [
              "[2, 3, 4, 5]"
            ]
          },
          "metadata": {},
          "execution_count": 15
        }
      ]
    },
    {
      "cell_type": "code",
      "source": [
        "results2=lambda numbers:results\n",
        "print(results2(numbers))"
      ],
      "metadata": {
        "id": "uoZ2kU26naV1"
      },
      "execution_count": null,
      "outputs": []
    },
    {
      "cell_type": "code",
      "source": [
        "#jesus\n",
        "n=int(input(\"Hasta que número quieres imprimir los pares e impares: \"))\n",
        "pares=[número for número in range(0,n+1) if número%2==0]\n",
        "print(pares)\n",
        "impares=[número for número in range(0,n+1) if número%2!=0]\n",
        "print(impares)"
      ],
      "metadata": {
        "id": "f3D-nC9rnjyt"
      },
      "execution_count": null,
      "outputs": []
    },
    {
      "cell_type": "code",
      "source": [
        "num=int(input(\"Hasta que número quieres imprimir los pares e impares: \"))\n",
        "def hola(n):\n",
        "  pares=[número for número in range(0,n+1) if número%2==0]\n",
        "  print(pares)\n",
        "  impares=[número for número in range(0,n+1) if número%2!=0]\n",
        "  print(impares)\n",
        "hola(num)"
      ],
      "metadata": {
        "id": "aqmOObHcnqBz"
      },
      "execution_count": null,
      "outputs": []
    },
    {
      "cell_type": "code",
      "source": [
        "num=int(input(\"Hasta que número quieres imprimir los pares e impares: \"))\n",
        "mi_lista=[n for n in range(0,num+1)]\n",
        "impares=list(filter(lambda num:num%2!=0,mi_lista))\n",
        "print(impares)\n",
        "pares=list(filter(lambda num:num%2==0,mi_lista))\n",
        "print(pares)"
      ],
      "metadata": {
        "id": "hXo4HPkanvbr"
      },
      "execution_count": null,
      "outputs": []
    },
    {
      "cell_type": "code",
      "source": [
        "#juan david\n",
        "#lambda y filter\n",
        "import random\n",
        "num1=[random.randint(0,2000)for x in range(100)]\n",
        "num2=[random.randint(0,2000)for x in range(100)]\n",
        "comun=[]\n",
        "comun= list(filter(lambda num:num in num1,num2))\n",
        "print(comun)\n",
        "\n",
        "\n"
      ],
      "metadata": {
        "id": "ksUe2UFfn0Fj",
        "colab": {
          "base_uri": "https://localhost:8080/"
        },
        "outputId": "9ae0d347-0c1f-4b6e-e7fd-b1496a78a900"
      },
      "execution_count": null,
      "outputs": [
        {
          "output_type": "stream",
          "name": "stdout",
          "text": [
            "[369, 1503, 1543, 793]\n"
          ]
        }
      ]
    },
    {
      "cell_type": "code",
      "source": [
        "#clasico\n",
        "num1=[random.randint(0,2000)for x in range(100)]\n",
        "num2=[random.randint(0,2000)for x in range(100)]\n",
        "comun=[]\n",
        "for a in num1:\n",
        "  for b in num2:\n",
        "    if a == b:\n",
        "      comun.append(a)\n",
        "print(comun)"
      ],
      "metadata": {
        "colab": {
          "base_uri": "https://localhost:8080/"
        },
        "id": "MzOcciDhp-nE",
        "outputId": "28318644-a20c-4796-8cb9-878dc7c089fc"
      },
      "execution_count": null,
      "outputs": [
        {
          "output_type": "stream",
          "name": "stdout",
          "text": [
            "[1713, 904, 799, 1967, 670, 1035]\n"
          ]
        }
      ]
    },
    {
      "cell_type": "code",
      "source": [
        "#comprensión\n",
        "import random\n",
        "num1=[random.randint(0,2000)for x in range(100)]\n",
        "num2=[random.randint(0,2000)for x in range(100)]\n",
        "comun1=[(x,y) for x in  num1 for y in num2 if x==y]\n",
        "print(comun1)"
      ],
      "metadata": {
        "colab": {
          "base_uri": "https://localhost:8080/"
        },
        "id": "ioPNzsvun79l",
        "outputId": "a2e676aa-7be2-4c92-b3fd-e3def074dcd5"
      },
      "execution_count": null,
      "outputs": [
        {
          "output_type": "stream",
          "name": "stdout",
          "text": [
            "[(753, 753), (619, 619), (1754, 1754)]\n"
          ]
        }
      ]
    },
    {
      "cell_type": "code",
      "source": [
        "#DANIEL\n",
        "#LAMBDA\n",
        "lambda_fun =lambda x:x**2\n",
        "lambda_fun(3)\n"
      ],
      "metadata": {
        "id": "AcXFNa3qpBIk"
      },
      "execution_count": null,
      "outputs": []
    },
    {
      "cell_type": "code",
      "source": [
        "#tradicional\n",
        "def square1(num):\n",
        "  return num**2\n",
        "print(square1(5))"
      ],
      "metadata": {
        "id": "y1q5YEVRrWpZ"
      },
      "execution_count": null,
      "outputs": []
    },
    {
      "cell_type": "code",
      "source": [
        "#comprensión\n",
        "\n",
        "L=[2,4,6,8]\n",
        "L2=[n**2 for n in L]\n",
        "print(L2)"
      ],
      "metadata": {
        "id": "j2Tn0u9IrkUh"
      },
      "execution_count": null,
      "outputs": []
    },
    {
      "cell_type": "code",
      "source": [
        "#angie\n",
        "#compresión\n",
        "nom1=['samuel','angie','valentina','alejandro','johnsito']\n",
        "nom2=['samuel','andrea','sandra','anderson','johnsito']\n",
        "common={a for a in nom1 for b in nom2 if a == b}\n",
        "common"
      ],
      "metadata": {
        "colab": {
          "base_uri": "https://localhost:8080/"
        },
        "id": "lCzSfjYasAN5",
        "outputId": "0433838a-bc4f-4d6b-8f21-a0b2a45cbc08"
      },
      "execution_count": null,
      "outputs": [
        {
          "output_type": "execute_result",
          "data": {
            "text/plain": [
              "{'johnsito', 'samuel'}"
            ]
          },
          "metadata": {},
          "execution_count": 2
        }
      ]
    },
    {
      "cell_type": "code",
      "source": [
        "#LAMBDA\n",
        "common1=lambda nom1,nom2:common\n",
        "print(common1(nom1,nom2))"
      ],
      "metadata": {
        "colab": {
          "base_uri": "https://localhost:8080/"
        },
        "id": "eAtwAjTPs7F3",
        "outputId": "799a7f0b-2670-451c-9970-36f7b05c799e"
      },
      "execution_count": null,
      "outputs": [
        {
          "output_type": "stream",
          "name": "stdout",
          "text": [
            "{'samuel', 'johnsito'}\n"
          ]
        }
      ]
    },
    {
      "cell_type": "code",
      "source": [
        "#funciones\n",
        "def common(nom1,nom2):\n",
        "  return nom1 ,nom2"
      ],
      "metadata": {
        "id": "2q68HBFetkGR"
      },
      "execution_count": null,
      "outputs": []
    },
    {
      "cell_type": "code",
      "source": [
        "#Valentina\n",
        "#tracidional\n",
        "def listaIMC(usuarios):\n",
        "  sis =[]\n",
        "  imc= []\n",
        "  b=0\n",
        "  a2=0\n",
        "  for n in range (usuarios):\n",
        "    w=input('nombre')\n",
        "    b=int(input('peso'))\n",
        "    a2=int(input('altura'))\n",
        "    sis.append((w,b/a2**2))\n",
        "    imc.append(b/a2**2)\n",
        "  return sis,imc\n",
        "user=int(input('total usuarios'))\n",
        "sis,imc=listaIMC(user)\n"
      ],
      "metadata": {
        "colab": {
          "base_uri": "https://localhost:8080/"
        },
        "id": "0pA9myofuTlv",
        "outputId": "36842553-414e-430c-8992-fbbbea8dd916"
      },
      "execution_count": null,
      "outputs": [
        {
          "name": "stdout",
          "output_type": "stream",
          "text": [
            "total usuarios5\n",
            "nombrejlkhlk\n",
            "peso56\n",
            "altura45\n",
            "nombregghgf\n",
            "peso45\n",
            "altura34\n",
            "nombrettrf\n",
            "peso34\n",
            "altura545\n",
            "nombretyy\n",
            "peso676\n",
            "altura76\n",
            "nombrertrtt\n",
            "peso67\n",
            "altura45\n"
          ]
        }
      ]
    },
    {
      "cell_type": "code",
      "source": [
        "#comprensión\n",
        "sis=listaIMC(user)\n",
        "sis2=[n for n in imc if n>= 18.5]\n",
        "print(sis2)"
      ],
      "metadata": {
        "id": "UUr_s4bHxSCw"
      },
      "execution_count": null,
      "outputs": []
    },
    {
      "cell_type": "code",
      "source": [
        "#lambda\n",
        "sis3=list(map(lambda x:'peso insuficiente' if x<18.5 else 'peso normal'if (x>=18.5 and x<30)else 'obesidad',imc))\n",
        "sis3"
      ],
      "metadata": {
        "colab": {
          "base_uri": "https://localhost:8080/"
        },
        "id": "krLuIgLKyRPr",
        "outputId": "7da9ed96-c96a-4066-babc-c27995339979"
      },
      "execution_count": null,
      "outputs": [
        {
          "output_type": "execute_result",
          "data": {
            "text/plain": [
              "['peso insuficiente',\n",
              " 'peso insuficiente',\n",
              " 'peso insuficiente',\n",
              " 'peso insuficiente',\n",
              " 'peso insuficiente']"
            ]
          },
          "metadata": {},
          "execution_count": 13
        }
      ]
    },
    {
      "cell_type": "code",
      "source": [
        "#LUIS MIGUEL\n",
        "\n",
        "#NORMAL\n",
        "print('código')\n",
        "caracter=input()\n",
        "if len(caracter)==8:\n",
        "  if caracter[0]=='U':\n",
        "    print('unab')\n",
        "  elif(caracter.startswith('a000')):\n",
        "    print('andes')\n",
        "  else:\n",
        "    if(int(caracter)>=1950):\n",
        "      print('UIS')\n",
        "else:\n",
        "  print('no hay universidad')\n"
      ],
      "metadata": {
        "id": "JQL6fZ2rzO36"
      },
      "execution_count": null,
      "outputs": []
    },
    {
      "cell_type": "code",
      "source": [
        "#comprensión\n",
        "universidades=['unab','UIS','andes']\n",
        "código=['U0123456','198562','a0005645']\n",
        "u=[cod for cod in código if (cod[0]=='U'and len(cod)==8)]\n",
        "print(u)"
      ],
      "metadata": {
        "id": "wIuWOKvY0bHX"
      },
      "execution_count": null,
      "outputs": []
    },
    {
      "cell_type": "code",
      "source": [
        "#LAMBDA\n",
        "y=list(map(lambda x:'unab' if (x[0]=='U' or x[0]=='u') else None, código))\n",
        "print(y)"
      ],
      "metadata": {
        "id": "c5c0gVVe1cxy"
      },
      "execution_count": null,
      "outputs": []
    },
    {
      "cell_type": "code",
      "source": [
        "#CRISTIAN\n",
        "lista=[]\n",
        "x=0\n",
        "while x==0:\n",
        "  entrada = input('ingresa un código')\n",
        "  lista.append(entrada)\n",
        "  a=int(input('¿ingresar otro?','ingresa 0 para si, ingresa 1 para no'))\n",
        "  if(a==1):\n",
        "    x=x+1\n",
        "clasificación =[a for a in lista if a.startswith('U00') and len(a)==9]\n",
        "print(f'hay{len(clasificación)}estudiante(s) de la unab y sus códigos son{clasificación}')\n",
        "\n",
        "clasificación =[a for a in lista if a.startswith('A000') and len(a)==9]\n",
        "print(f'hay{len(clasificación)}estudiante(s) de los Andes y sus códigos son{clasificación}')\n",
        "\n"
      ],
      "metadata": {
        "id": "l2p6NGcY2WxP"
      },
      "execution_count": null,
      "outputs": []
    },
    {
      "cell_type": "code",
      "source": [
        "def funcion(lista,numDigitos, universidad,clasCodigo):\n",
        "  clasificación =[a for a in lista if a.startswith(clasCodigo) and len(a)==numDigitos]\n",
        "  print(f'hay {len(clasificación)} estudiantes de {universidad}y sus codigos son {clasificación}')\n",
        "lista=[]\n",
        "x=0\n",
        "while x==0:\n",
        "  entrada = input('ingresa codigo')\n",
        "  lista.append(entrada)\n",
        "  a=int(input('desea ingresar otro, ingresa 0 para si, ingresa ,sino ingresa 1'))\n",
        "  if(a==1):\n",
        "    x=x+1\n",
        "funcion(lista,9,'la unab','U00')\n",
        "funcion (lista,9,'los andes','A000')\n"
      ],
      "metadata": {
        "id": "sKjDDPr945pR"
      },
      "execution_count": null,
      "outputs": []
    },
    {
      "cell_type": "code",
      "source": [
        "#LAMBDA\n",
        "lista1=['U00013246','A001234643','U00156837']\n",
        "clasificacion = list(map(lambda a:print(f'hay {len(clasificacion)} estudiante(s) de la unab') if a.startswith('U00') or a.startswith('U00') else print(f'hay'{len(clasificacion)}"
      ],
      "metadata": {
        "id": "tIzl0AhuCy6M"
      },
      "execution_count": null,
      "outputs": []
    },
    {
      "cell_type": "markdown",
      "source": [
        "DICCIONARIOS POR COMPRENSION"
      ],
      "metadata": {
        "id": "wZlnn9IaJElU"
      }
    },
    {
      "cell_type": "code",
      "source": [
        "#SANTIAGO CARVAJAL\n",
        "# COMPRESIÓN\n",
        "import random\n",
        "clientes =['Alex','bob','carol','dave','flow','katie','nate']\n",
        "diccionario_descuentos = {cliente:random.randint(1,100) for cliente in clientes}\n",
        "print(diccionario_descuento)"
      ],
      "metadata": {
        "id": "6R0uMtnXJH5M"
      },
      "execution_count": null,
      "outputs": []
    },
    {
      "cell_type": "code",
      "source": [
        "#LAMBDA\n",
        "import random\n",
        "clientes =['Alex','bob','carol','dave','flow','katie','nate']\n",
        "diccionario_descuentos =(dict(map(lambda diccionario_descuentos:(diccionario,random.randint(1,100),clientes))))\n",
        "print(diccionario_descuentos)"
      ],
      "metadata": {
        "id": "WcLATP35LGTk"
      },
      "execution_count": null,
      "outputs": []
    },
    {
      "cell_type": "code",
      "source": [
        "#JUAN DAVID VARGAS\n",
        "Productos =['milk','bread','butter','apple','watermelon','banana','candy','water','ice']\n",
        "precio = [3,4,5,6,4,7,8,9,10]\n",
        "#ZIP COMPRIME LAS 2 LISTAS, CONVIRTIENDOLAS EN PARES KEY-VALUE\n",
        "precio_productos ={x:y for (x,y) in zip(Productos,precio)}\n",
        "print(precio_productos)"
      ],
      "metadata": {
        "colab": {
          "base_uri": "https://localhost:8080/"
        },
        "id": "FExmQm4aJmcV",
        "outputId": "fa3f5cb3-a850-4151-90a2-268aeab57d8c"
      },
      "execution_count": 2,
      "outputs": [
        {
          "output_type": "stream",
          "name": "stdout",
          "text": [
            "{'milk': 3, 'bread': 4, 'butter': 5, 'apple': 6, 'watermelon': 4, 'banana': 7, 'candy': 8, 'water': 9, 'ice': 10}\n"
          ]
        }
      ]
    },
    {
      "cell_type": "code",
      "source": [
        "#lambda\n",
        "\n",
        "precio_productos2 =(dict(map(lambda x,y:(x,y),Productos,precio )))\n",
        "print(precio_productos2)\n"
      ],
      "metadata": {
        "colab": {
          "base_uri": "https://localhost:8080/"
        },
        "id": "WtduHvkqMcHk",
        "outputId": "d38d8c96-8e13-47a3-e91d-1660dd5dda7e"
      },
      "execution_count": 4,
      "outputs": [
        {
          "output_type": "stream",
          "name": "stdout",
          "text": [
            "{'milk': 3, 'bread': 4, 'butter': 5, 'apple': 6, 'watermelon': 4, 'banana': 7, 'candy': 8, 'water': 9, 'ice': 10}\n"
          ]
        }
      ]
    },
    {
      "cell_type": "code",
      "source": [
        "#JAIME RUEDA\n",
        "producto={'papas':1300,'jugo':1800,'helado':2300}\n",
        "operacion={x:y*1.19 for (x,y)in producto.items()}\n",
        "\n",
        "print(f'sin iva es: {producto}')\n",
        "print('$$'*60)\n",
        "print(f'con iva es: {operacion}')\n",
        "\n"
      ],
      "metadata": {
        "colab": {
          "base_uri": "https://localhost:8080/"
        },
        "id": "SsWySSKQQdzV",
        "outputId": "c12a5c6b-b5aa-4cc0-ff5c-0afcf7f954af"
      },
      "execution_count": 7,
      "outputs": [
        {
          "output_type": "stream",
          "name": "stdout",
          "text": [
            "sin iva es: {'papas': 1300, 'jugo': 1800, 'helado': 2300}\n",
            "$$$$$$$$$$$$$$$$$$$$$$$$$$$$$$$$$$$$$$$$$$$$$$$$$$$$$$$$$$$$$$$$$$$$$$$$$$$$$$$$$$$$$$$$$$$$$$$$$$$$$$$$$$$$$$$$$$$$$$$$\n",
            "con iva es: {'papas': 1547.0, 'jugo': 2142.0, 'helado': 2737.0}\n"
          ]
        }
      ]
    },
    {
      "cell_type": "code",
      "source": [
        "#lambda\n",
        "tienda={'papas':1300,'jugo':1800,'helado':2300}\n",
        "compra=['papas','jugo','helado']\n",
        "\n",
        "iva=dict(map(lambda producto:(producto, tienda[producto])if producto in tienda else (producto,None),compra))\n",
        "iva"
      ],
      "metadata": {
        "colab": {
          "base_uri": "https://localhost:8080/"
        },
        "id": "tVuNTgkLTjBl",
        "outputId": "9082cee6-ab82-43c8-b7f9-446cb6102a6a"
      },
      "execution_count": 8,
      "outputs": [
        {
          "output_type": "execute_result",
          "data": {
            "text/plain": [
              "{'papas': 1300, 'jugo': 1800, 'helado': 2300}"
            ]
          },
          "metadata": {},
          "execution_count": 8
        }
      ]
    },
    {
      "cell_type": "code",
      "source": [
        "#leandro\n",
        "def  temperatura(value):\n",
        "  if value >= 70:\n",
        "    return 'hot'\n",
        "  elif 69 >= value >= 40:\n",
        "    return 'warn'\n",
        "  else:\n",
        "    return 'cold'\n",
        "ciudad = {'buga':32,'barranca':75,'cucuta':100,}\n",
        "des_ciudad ={key: temperatura(value) for (key, value) in ciudad.items()}\n",
        "print(des_ciudad)  "
      ],
      "metadata": {
        "colab": {
          "base_uri": "https://localhost:8080/"
        },
        "id": "5Z0CO8oCUa-u",
        "outputId": "deb51c25-b081-4cc0-9a7c-bba0ab6b4b1d"
      },
      "execution_count": 10,
      "outputs": [
        {
          "output_type": "stream",
          "name": "stdout",
          "text": [
            "{'buga': 'cold', 'barranca': 'hot', 'cucuta': 'hot'}\n"
          ]
        }
      ]
    },
    {
      "cell_type": "code",
      "source": [
        "#lambda\n",
        "ciudad = {'buga':32,'barranca':75,'cucuta':100,}\n",
        "des_ciudades =dict[map(lambda ciud: temperatura(ciudad.values(ciud),ciudad.items()))]\n",
        "#otra forma\n",
        "des_ciudades ={key: temperatura(value) for (key,value) in ciudad.items()}\n",
        "print(des_ciudades)"
      ],
      "metadata": {
        "id": "cb5hmoDwV0YN"
      },
      "execution_count": null,
      "outputs": []
    },
    {
      "cell_type": "code",
      "source": [
        "#sebastian\n",
        "import random\n",
        "compa=[]\n",
        "def ale(opciones):\n",
        "  opciones = list(opciones)\n",
        "  while True:\n",
        "    x = random.choice(opciones)\n",
        "    opciones.remove(x)\n",
        "    yield x\n",
        "print('no agregar escriba 0')\n",
        "a ='t'\n",
        "while a!='0':\n",
        "  a(input('nombre'))\n",
        "  if a!='0':\n",
        "    compa.append(a)\n",
        "cantidad=len(compa)\n",
        "cont=0\n",
        "num=[]\n",
        "while cont != (cantidad+1):\n",
        "  cont+=1\n",
        "  num.append(cont)\n",
        "alt = aleatorio(num)\n",
        "num_alt={}\n",
        "for s in range(cantidad):\n",
        "  num_alt[compa[s]]=next(alt)\n",
        "print(num_alt)\n",
        "\n"
      ],
      "metadata": {
        "id": "xffg1b1VWyFG"
      },
      "execution_count": null,
      "outputs": []
    },
    {
      "cell_type": "code",
      "source": [
        "#comprension\n",
        "numeros=[num for num in range (1,cantidad+1)]\n",
        "alt = aleatorio(numeros)\n",
        "num_alt ={orden:next(alt) for orden in compa}\n",
        "print(num_alt)"
      ],
      "metadata": {
        "id": "-yCtMMn4Zx59"
      },
      "execution_count": null,
      "outputs": []
    },
    {
      "cell_type": "code",
      "source": [
        "#lambda\n",
        "valores=[n for n in range (1,cantidad+1)]\n",
        "numeros= list(map(lambda num: num, valores))\n",
        "alt = aleatorio(numeros)\n",
        "num_alt = dict(map(lambda orden:(orden, next(alt)),compa))\n",
        "\n",
        "print(num_alt)"
      ],
      "metadata": {
        "id": "BNOd7EHiaxeM"
      },
      "execution_count": null,
      "outputs": []
    },
    {
      "cell_type": "code",
      "source": [
        "#DANIEL RODRIGUEZ\n",
        "#COMPRENSION\n",
        "import random\n",
        "diccionario=['cliente1','cliente 2','cliente 3']\n",
        "tienda ={diccionario: random.random.randint(1000,100000) for diccionario in diccionario}\n",
        "tienda_sort=sorted(tienda.values())\n",
        "mayor=tienda_sort[-1]\n",
        "mayor1=tienda_sort[4::]\n",
        "cliente=list(tienda.values()).Index(mayor)\n",
        "if cliente==0:\n",
        "  a='cliente1'\n",
        "if cliente==1\n",
        "  a='cliente2'\n",
        "oferta={producto*0.8 for producto in mayor1}\n",
        "print(f'el{a}tuvo la mayor compra valor:{mayor} tiene descunto de 20% total : {oferta}')\n",
        "    \n"
      ],
      "metadata": {
        "id": "sqrvm7NPbhXK"
      },
      "execution_count": null,
      "outputs": []
    },
    {
      "cell_type": "code",
      "source": [
        "#funcion\n",
        "import random\n",
        "diccionario=['cliente1','cliente 2','cliente 3']\n",
        "def cositas(a):\n",
        "  tienda ={diccionario: random.random.randint(1000,100000) for diccionario in diccionario}\n",
        "  tienda_sort=sorted(tienda.values())\n",
        "  mayor=tienda_sort[-1]\n",
        "  mayor1=tienda_sort[4::]\n",
        "  cliente=list(tienda.values()).Index(mayor)\n",
        "  if cliente==0:\n",
        "  a='cliente1'\n",
        "  if cliente==1\n",
        "  a='cliente2'\n",
        "  oferta={producto*0.8 for producto in mayor1}\n",
        "  print(f'el{a}tuvo la mayor compra valor:{mayor} tiene descunto de 20% total : {oferta}')\n",
        "  cositas(diccionario)\n",
        "    "
      ],
      "metadata": {
        "id": "_x3kOfEHgEOf"
      },
      "execution_count": null,
      "outputs": []
    },
    {
      "cell_type": "code",
      "source": [
        "#lambda\n",
        "import random\n",
        "diccionario=['cliente1','cliente 2','cliente 3']\n",
        "tienda ={diccionario: random.random.randint(1000,100000) for diccionario in diccionario}\n",
        "tienda_sort=sorted(tienda.values())\n",
        "mayor=tienda_sort[-1]\n",
        "mayor1=tienda_sort[4::]\n",
        "cliente=list(tienda.values()).Index(mayor)\n",
        "oferta={producto*0.8 for producto in mayor1}\n",
        "cositas=max(tienda,key=tienda.get)\n",
        "print(f'el{cositas}tuvo la mayor compra valor:{mayor} tiene descunto de 20% total : {oferta}')\n"
      ],
      "metadata": {
        "id": "bTaAl-N2hHiV"
      },
      "execution_count": null,
      "outputs": []
    },
    {
      "cell_type": "code",
      "source": [
        "##ADRIAN PARRA\n",
        "#COMPRENSION\n",
        "nombre= str(input('nombre de atleta'))\n",
        "N=int(input('saltos'))\n",
        "def fun(nombre, a):\n",
        "  lista=[]\n",
        "  for i in range(0,a):\n",
        "    name= str(f'salto{i+1}')\n",
        "    lista.append(name)\n",
        "  print('-------------------')\n",
        "  print('altura en metros')\n",
        "  dic_lista={lista: float(input(f'ingrese altura')) for lista in lista}\n",
        "  distancia=sorted(dic_lista.values())\n",
        "  mayor=distancia[-1]\n",
        "  print('-----------------')\n",
        "  print(f'atleta{nombre}:')\n",
        "  print(dic_lista)\n",
        "  sum=0\n",
        "  for i in dic_lista.values():\n",
        "    sumn+1\n",
        "    prom=sum/a\n",
        "    redprom=round(prom,2)\n",
        "    print(f'promedio{a}saltos{redprom}metros,{mayor}')\n",
        "fun(nombre,N)"
      ],
      "metadata": {
        "id": "CJR6bPjdgt9B"
      },
      "execution_count": null,
      "outputs": []
    },
    {
      "cell_type": "code",
      "source": [
        "import functools\n",
        "#lambda\n",
        "\n",
        "from functools import reduce\n",
        "nombre= str(input('nombre de atleta'))\n",
        "a=int(input('saltos'))\n",
        "lista=[]\n",
        "  for i in range(0,a):\n",
        "    name= str(f'salto{i+1}')\n",
        "    lista.append(name)\n",
        "  print('-------------------')\n",
        "  print('altura en metros')\n",
        "  dic_lista=(dict(map(lambda x:(x,float(input(f'ingrese altura')), lista)\n",
        "  distancia=sorted(dic_lista.values())\n",
        "  mayor=distancia[-1]\n",
        "  print('-----------------')\n",
        "  print(f'atleta{nombre}:')\n",
        "  print(dic_lista)\n",
        "\n",
        "  sum=reduce(lambda distancia,distancia1:distancia+distancia1, distancia)\n",
        "  prom=float(sum)/a\n",
        "  redprom=round(prom,2)\n",
        "  print(f'promedio{a}saltos{redprom}metros,{mayor}')\n",
        "\n"
      ],
      "metadata": {
        "id": "XS002cXBkQHW"
      },
      "execution_count": null,
      "outputs": []
    },
    {
      "cell_type": "code",
      "source": [
        "##SANTIAGO GALINDO\n",
        "from typing_extensions import DefaultDict\n",
        "import random\n",
        "cs =['andru','david','sebas']\n",
        "CS= ['andres','flowey','cata','karen']\n",
        "DD ={cs:random.randint(1,50)for cs in cs}\n",
        "DD1 ={CS:random.randint(1,50)for Cs in CS}\n",
        "print(DD,DD1)"
      ],
      "metadata": {
        "id": "S7Tado81lm0I"
      },
      "execution_count": null,
      "outputs": []
    },
    {
      "cell_type": "code",
      "source": [
        "#funcion\n",
        "from typing_extensions import DefaultDict\n",
        "import random\n",
        "def A():\n",
        "  cs =['andru','david','sebas']\n",
        "  CS= ['andres','flowey','cata','karen']\n",
        "  DD ={cs:random.randint(1,50)for cs in cs}\n",
        "  DD1 ={CS:random.randint(1,50)for Cs in CS}\n",
        "  return DD,DD1\n",
        "A()"
      ],
      "metadata": {
        "id": "2SYOEqyEmih2"
      },
      "execution_count": null,
      "outputs": []
    },
    {
      "cell_type": "code",
      "source": [
        "#lambda\n",
        "from typing_extensions import DefaultDict\n",
        "import random\n",
        "cs =['andru','david','sebas']\n",
        "CS= ['andres','flowey','cata','karen']\n",
        "DD =dict(map(lambda DD:(DD,random.random.randint(1,50)),cs)\n",
        "DD1 =dict(map(lambda DD1:(DD1,random.random.randint(1,50)),cs)\n",
        "print(DD,DD1)"
      ],
      "metadata": {
        "id": "WZbKakZBm2N2"
      },
      "execution_count": null,
      "outputs": []
    },
    {
      "cell_type": "code",
      "source": [
        "#JUAN ZULUAGA\n",
        "import random\n",
        "listado_numerico=[]\n",
        "while True\n",
        "  nombres=str(input('cliente'))\n",
        "  listado_numerico.append(nombres)\n",
        "  confirmado=str(input('mas clientes'))\n",
        "  confirmador.lower()\n",
        "  if confirmador =='no':\n",
        "    break\n",
        "print(listado_numerico)\n",
        "catalogocomp={listado_numerico: random.random.randint(100,5000)for listado_numerico}\n",
        "costes=sorted(catalogocomp)\n",
        "mayor=max(catalogocomp,key=catalogocomp.get)\n",
        "gastos= sum(catalogocomp.values())*0.8 if sum(catalogocomp.values())>10000 else sum(catalogocomp.values())\n",
        "print (mayor)\n",
        "\n",
        "descuentos_prod=[0.6,0.8,0.5]\n",
        "catalogo_descuentos={listado_numerico:random.choice(descuentos_prod)*random.randint(100,5000))}\n"
      ],
      "metadata": {
        "id": "M7pX793mneeN"
      },
      "execution_count": null,
      "outputs": []
    }
  ]
}