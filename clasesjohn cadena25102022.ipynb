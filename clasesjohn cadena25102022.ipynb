{
  "nbformat": 4,
  "nbformat_minor": 0,
  "metadata": {
    "colab": {
      "provenance": []
    },
    "kernelspec": {
      "name": "python3",
      "display_name": "Python 3"
    },
    "language_info": {
      "name": "python"
    }
  },
  "cells": [
    {
      "cell_type": "code",
      "execution_count": 21,
      "metadata": {
        "id": "wRvRH1_kiztf"
      },
      "outputs": [],
      "source": [
        "#suma\n",
        "\n",
        "class Fracción:#clase\n",
        "#constructor\n",
        "\n",
        "  def __init__(self,num,den,pot):\n",
        "    self.num=num\n",
        "    self.den=den\n",
        "    self.pot=pot  \n",
        "  def potencia(self):\n",
        "   if self.den==0 or b.den==0:\n",
        "      print(\"No se puede dividir entre 0\") \n",
        "   else:\n",
        "    if self.pot==0:\n",
        "      num=1\n",
        "      den=1\n",
        "    elif self.pot<0:\n",
        "      self.num, self.den = self.den , self.num\n",
        "      self.pot=self.pot*-1\n",
        "      num=self.num**self.pot\n",
        "      den=self.den**self.pot\n",
        "    else:\n",
        "     num=self.num**self.pot\n",
        "     den=self.den**self.pot\n",
        "     pot=self.pot\n",
        "    c=Fraccion(num,den,pot)\n",
        "    print(f'{c.num} / {c.den}')\n",
        "    return c\n",
        "  def suma(self,s):\n",
        "    if self.den==0 or s.den==0:\n",
        "      print(\"No se puede dividir entre 0\") \n",
        "    else:\n",
        "      if self.den!=s.den:\n",
        "        num=(self.num*s.den)+(self.den*s.num)  \n",
        "        den=self.den*s.den\n",
        "      else:\n",
        "         num=(self.num*s.den)+(self.den*s.num)\n",
        "         den=self.den\n",
        "      f=Fraccion(num,den,1)\n",
        "      print(f'{f.num} / {f.den}')\n",
        "      return f    \n",
        "\n",
        "\n",
        "  def resta(self,s):\n",
        "    if self.den==0 or s.den==0:\n",
        "      print(\"No se puede dividir entre 0\") \n",
        "    else:\n",
        "     if self.den==0 or s.den==0:\n",
        "       print(\"No se puede dividir entre 0\") \n",
        "     else:\n",
        "       if self.den!=s.den:\n",
        "        num=(self.num*s.den)-(self.den*s.num)  \n",
        "        den=self.den*s.den\n",
        "       else:\n",
        "         num=(self.num*s.den)-(self.den*s.num)\n",
        "         den=self.den\n",
        "    f=Fraccion(num,den,1)\n",
        "    print(f'{f.num} / {f.den}')\n",
        "    return f\n",
        "  def producto(self,s):\n",
        "    if self.den==0 or s.den==0:\n",
        "      print(\"No se puede dividir entre 0\") \n",
        "    else:\n",
        "     num=self.num*s.num\n",
        "     den=self.den*s.den\n",
        "     fr=Fraccion(num,den,1)\n",
        "    return f\"{fr.num}/{fr.den}\"\n",
        "\n",
        "  def imprimir(self):\n",
        "    print(f'{self.num} / {self.den}')\n",
        "\n",
        "  def div(self,c):\n",
        "    if self.den==0 or s.den==0:\n",
        "      print(\"No se puede dividir entre 0\")\n",
        "    else:\n",
        "     num=self.num*c.den\n",
        "     den=self.den*c.num \n",
        "     frac=Fraccion(num,den,1)\n",
        "    return f'{frac.num}/{frac.den}' "
      ]
    },
    {
      "cell_type": "code",
      "source": [
        "s=Fracción(3,5,8)"
      ],
      "metadata": {
        "id": "-TUXHHVomE2r"
      },
      "execution_count": 17,
      "outputs": []
    },
    {
      "cell_type": "code",
      "source": [
        "s.potencia()"
      ],
      "metadata": {
        "colab": {
          "base_uri": "https://localhost:8080/"
        },
        "id": "k1lKmLqJnHAa",
        "outputId": "4d0ee0b9-d3b4-41c3-8399-46d335e2e51b"
      },
      "execution_count": 14,
      "outputs": [
        {
          "output_type": "stream",
          "name": "stdout",
          "text": [
            "6561/390625\n"
          ]
        },
        {
          "output_type": "execute_result",
          "data": {
            "text/plain": [
              "<__main__.Fracción at 0x7f929bef9950>"
            ]
          },
          "metadata": {},
          "execution_count": 14
        }
      ]
    },
    {
      "cell_type": "code",
      "source": [
        "t=Fracción(3,5,1)"
      ],
      "metadata": {
        "id": "2Ln6CKGgrA5C"
      },
      "execution_count": 18,
      "outputs": []
    },
    {
      "cell_type": "code",
      "source": [
        "t.multi(t)"
      ],
      "metadata": {
        "id": "20E-RTPErzDi"
      },
      "execution_count": null,
      "outputs": []
    },
    {
      "cell_type": "code",
      "source": [
        "a=t.division(s)\n",
        "print(a)"
      ],
      "metadata": {
        "colab": {
          "base_uri": "https://localhost:8080/"
        },
        "id": "6re5-9u3wCJa",
        "outputId": "e5057b40-64ae-4a9e-e8b1-8415ce815fe2"
      },
      "execution_count": 20,
      "outputs": [
        {
          "output_type": "stream",
          "name": "stdout",
          "text": [
            "15/15\n"
          ]
        }
      ]
    }
  ]
}