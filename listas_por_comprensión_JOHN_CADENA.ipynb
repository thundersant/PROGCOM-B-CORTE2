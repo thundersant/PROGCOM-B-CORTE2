{
  "nbformat": 4,
  "nbformat_minor": 0,
  "metadata": {
    "colab": {
      "provenance": []
    },
    "kernelspec": {
      "name": "python3",
      "display_name": "Python 3"
    },
    "language_info": {
      "name": "python"
    }
  },
  "cells": [
    {
      "cell_type": "code",
      "execution_count": null,
      "metadata": {
        "id": "-kzPUWgefAiE"
      },
      "outputs": [],
      "source": [
        "#lista por comprension\n",
        "#https://www.analyticslane.com/2019/09/23/listas-por-comprension-en-python/\n",
        "#https://www.tutorialesprogramacionya.com/pythonya/detalleconcepto.php?punto=94&codigo=95&inicio=90#:~:text=La%20comprensi%C3%B3n%20de%20listas%20es,forma%20m%C3%A1s%20concisa%20un%20algoritmo.\n",
        "\n",
        "#un programa que muestre en pantalla los números del 1 al 500, sustituyendo los múltiplos de 3 por el palabra \"mult 3\" y, a su vez, los múltiplos de 5 por \"mult 5\". \n",
        "#Para los números que, al tiempo, son múltiplos de 3 y 5, mostrar el mensaje \"FizzBuzz\".\n",
        "\n",
        "\n",
        "for nro in range (1,101):\n",
        "  if nro%3==0  and  nro%5==0:\n",
        "    print('mult de 3 y 5')\n",
        "  elif nro%3==0:\n",
        "    print('mult de 3')\n",
        "  elif nro%5==0:\n",
        "    print('mult de 5')\n",
        "  else:\n",
        "    print(nro)\n",
        "\n"
      ]
    },
    {
      "cell_type": "code",
      "source": [
        "print([\"mult de 3\"*(not nro%3) + \"mult de 5\"*(not nro%5) or nro for nro in range(1, 101)])"
      ],
      "metadata": {
        "colab": {
          "base_uri": "https://localhost:8080/"
        },
        "id": "utuSpSgFl7-y",
        "outputId": "e624a0c7-5471-4e07-d2f4-42382842ab6c"
      },
      "execution_count": null,
      "outputs": [
        {
          "output_type": "stream",
          "name": "stdout",
          "text": [
            "[1, 2, 'multiplo de 3', 4, 'multiplo de 5', 'multiplo de 3', 7, 8, 'multiplo de 3', 'multiplo de 5', 11, 'multiplo de 3', 13, 14, 'multiplo de 3multiplo de 5', 16, 17, 'multiplo de 3', 19, 'multiplo de 5', 'multiplo de 3', 22, 23, 'multiplo de 3', 'multiplo de 5', 26, 'multiplo de 3', 28, 29, 'multiplo de 3multiplo de 5', 31, 32, 'multiplo de 3', 34, 'multiplo de 5', 'multiplo de 3', 37, 38, 'multiplo de 3', 'multiplo de 5', 41, 'multiplo de 3', 43, 44, 'multiplo de 3multiplo de 5', 46, 47, 'multiplo de 3', 49, 'multiplo de 5', 'multiplo de 3', 52, 53, 'multiplo de 3', 'multiplo de 5', 56, 'multiplo de 3', 58, 59, 'multiplo de 3multiplo de 5', 61, 62, 'multiplo de 3', 64, 'multiplo de 5', 'multiplo de 3', 67, 68, 'multiplo de 3', 'multiplo de 5', 71, 'multiplo de 3', 73, 74, 'multiplo de 3multiplo de 5', 76, 77, 'multiplo de 3', 79, 'multiplo de 5', 'multiplo de 3', 82, 83, 'multiplo de 3', 'multiplo de 5', 86, 'multiplo de 3', 88, 89, 'multiplo de 3multiplo de 5', 91, 92, 'multiplo de 3', 94, 'multiplo de 5', 'multiplo de 3', 97, 98, 'multiplo de 3', 'multiplo de 5']\n"
          ]
        }
      ]
    },
    {
      "cell_type": "code",
      "source": [
        "#numero perfecto\n",
        "\n",
        "def perfecto(numero):\n",
        "  perf=0\n",
        "  for i in range (1,numero):\n",
        "    if numero %i==0:\n",
        "      perf+=i\n",
        "  if perf ==numero:\n",
        "    print('es numero perfecto')\n",
        "    return True\n",
        "  else:\n",
        "     print('no es numero perfecto')\n",
        "numero=6\n",
        "perfecto (numero)   "
      ],
      "metadata": {
        "colab": {
          "base_uri": "https://localhost:8080/"
        },
        "id": "loFDMhEtoc7p",
        "outputId": "688a83c6-456f-4e40-9bd7-a6c7f063ded3"
      },
      "execution_count": null,
      "outputs": [
        {
          "output_type": "stream",
          "name": "stdout",
          "text": [
            "es numero perfecto\n"
          ]
        },
        {
          "output_type": "execute_result",
          "data": {
            "text/plain": [
              "True"
            ]
          },
          "metadata": {},
          "execution_count": 6
        }
      ]
    },
    {
      "cell_type": "code",
      "source": [
        "def numeros():\n",
        "  a=int(input('ingresa un número'))\n",
        "  b=int(input('ingresa un número'))\n",
        "  c=int(input('ingresa un número'))\n",
        "  d=int(input('ingresa un número'))\n",
        "  perfect=[a,b,c,d]\n",
        "\n",
        "  perfect1=[elemento for elemento in perfect if perfecto(elemento)==True ]\n",
        "numeros()\n"
      ],
      "metadata": {
        "colab": {
          "base_uri": "https://localhost:8080/"
        },
        "id": "YnMEalWFohYx",
        "outputId": "a2cc9fc7-bcaa-45b5-d219-a3599a9650df"
      },
      "execution_count": null,
      "outputs": [
        {
          "output_type": "stream",
          "name": "stdout",
          "text": [
            "ingresa un número1\n",
            "ingresa un número2\n",
            "ingresa un número3\n",
            "ingresa un número6\n",
            "no es numero perfecto\n",
            "no es numero perfecto\n",
            "no es numero perfecto\n",
            "es numero perfecto\n"
          ]
        }
      ]
    },
    {
      "cell_type": "code",
      "source": [
        "lista=[2,3,6,4]\n",
        "#lambda y map\n",
        "perfect2=list(map(lambda elemento:perfecto(elemento)==True,lista))\n",
        "perfect2"
      ],
      "metadata": {
        "id": "91dWh-VPX8Bh"
      },
      "execution_count": null,
      "outputs": []
    },
    {
      "cell_type": "code",
      "source": [],
      "metadata": {
        "colab": {
          "base_uri": "https://localhost:8080/"
        },
        "id": "QYlVkVlLPI3_",
        "outputId": "76bb5a9d-fd92-41dd-d005-f68c23882982"
      },
      "execution_count": null,
      "outputs": [
        {
          "output_type": "stream",
          "name": "stdout",
          "text": [
            "no es numero perfecto\n",
            "no es numero perfecto\n",
            "es numero perfecto\n",
            "no es numero perfecto\n"
          ]
        },
        {
          "output_type": "execute_result",
          "data": {
            "text/plain": [
              "[False, False, True, False]"
            ]
          },
          "metadata": {},
          "execution_count": 14
        }
      ]
    },
    {
      "cell_type": "code",
      "source": [
        "#samuel\n",
        "\n",
        "numbers = [1, 2, 3, 4]\n",
        "results = [n + 1 for n in numbers if n < 5]\n",
        "results"
      ],
      "metadata": {
        "colab": {
          "base_uri": "https://localhost:8080/"
        },
        "id": "5m7DOD0rnQ23",
        "outputId": "9c66225a-058a-4406-9843-516ff76253d9"
      },
      "execution_count": null,
      "outputs": [
        {
          "output_type": "execute_result",
          "data": {
            "text/plain": [
              "[2, 3, 4, 5]"
            ]
          },
          "metadata": {},
          "execution_count": 15
        }
      ]
    },
    {
      "cell_type": "code",
      "source": [
        "results2=lambda numbers:results\n",
        "print(results2(numbers))"
      ],
      "metadata": {
        "id": "uoZ2kU26naV1"
      },
      "execution_count": null,
      "outputs": []
    },
    {
      "cell_type": "code",
      "source": [
        "#jesus\n",
        "n=int(input(\"Hasta que número quieres imprimir los pares e impares: \"))\n",
        "pares=[número for número in range(0,n+1) if número%2==0]\n",
        "print(pares)\n",
        "impares=[número for número in range(0,n+1) if número%2!=0]\n",
        "print(impares)"
      ],
      "metadata": {
        "id": "f3D-nC9rnjyt"
      },
      "execution_count": null,
      "outputs": []
    },
    {
      "cell_type": "code",
      "source": [
        "num=int(input(\"Hasta que número quieres imprimir los pares e impares: \"))\n",
        "def hola(n):\n",
        "  pares=[número for número in range(0,n+1) if número%2==0]\n",
        "  print(pares)\n",
        "  impares=[número for número in range(0,n+1) if número%2!=0]\n",
        "  print(impares)\n",
        "hola(num)"
      ],
      "metadata": {
        "id": "aqmOObHcnqBz"
      },
      "execution_count": null,
      "outputs": []
    },
    {
      "cell_type": "code",
      "source": [
        "num=int(input(\"Hasta que número quieres imprimir los pares e impares: \"))\n",
        "mi_lista=[n for n in range(0,num+1)]\n",
        "impares=list(filter(lambda num:num%2!=0,mi_lista))\n",
        "print(impares)\n",
        "pares=list(filter(lambda num:num%2==0,mi_lista))\n",
        "print(pares)"
      ],
      "metadata": {
        "id": "hXo4HPkanvbr"
      },
      "execution_count": null,
      "outputs": []
    },
    {
      "cell_type": "code",
      "source": [
        "#juan david\n",
        "#lambda y filter\n",
        "import random\n",
        "num1=[random.randint(0,2000)for x in range(100)]\n",
        "num2=[random.randint(0,2000)for x in range(100)]\n",
        "comun=[]\n",
        "comun= list(filter(lambda num:num in num1,num2))\n",
        "print(comun)\n",
        "\n",
        "\n"
      ],
      "metadata": {
        "id": "ksUe2UFfn0Fj",
        "colab": {
          "base_uri": "https://localhost:8080/"
        },
        "outputId": "9ae0d347-0c1f-4b6e-e7fd-b1496a78a900"
      },
      "execution_count": 17,
      "outputs": [
        {
          "output_type": "stream",
          "name": "stdout",
          "text": [
            "[369, 1503, 1543, 793]\n"
          ]
        }
      ]
    },
    {
      "cell_type": "code",
      "source": [
        "num1=[random.randint(0,2000)for x in range(100)]\n",
        "num2=[random.randint(0,2000)for x in range(100)]\n",
        "comun=[]\n",
        "for a in num1:\n",
        "  for b in num2:\n",
        "    if a == b:\n",
        "      comun.append(a)\n",
        "print(comun)"
      ],
      "metadata": {
        "colab": {
          "base_uri": "https://localhost:8080/"
        },
        "id": "MzOcciDhp-nE",
        "outputId": "28318644-a20c-4796-8cb9-878dc7c089fc"
      },
      "execution_count": 18,
      "outputs": [
        {
          "output_type": "stream",
          "name": "stdout",
          "text": [
            "[1713, 904, 799, 1967, 670, 1035]\n"
          ]
        }
      ]
    }
  ]
}