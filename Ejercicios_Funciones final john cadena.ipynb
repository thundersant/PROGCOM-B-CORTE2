{
  "nbformat": 4,
  "nbformat_minor": 0,
  "metadata": {
    "colab": {
      "provenance": []
    },
    "kernelspec": {
      "name": "python3",
      "display_name": "Python 3"
    },
    "language_info": {
      "name": "python"
    }
  },
  "cells": [
    {
      "cell_type": "code",
      "execution_count": null,
      "metadata": {
        "colab": {
          "base_uri": "https://localhost:8080/"
        },
        "id": "jWJyGIaRbrLV",
        "outputId": "50643bbb-4168-4530-cb17-8092e5e408da"
      },
      "outputs": [
        {
          "output_type": "stream",
          "name": "stdout",
          "text": [
            "ingresa un número3\n",
            "ingresa un número2\n",
            "3 es el mayor\n"
          ]
        }
      ],
      "source": [
        "#ejercicio 1\n",
        "a=int(input('ingresa un número'))\n",
        "b=int(input('ingresa un número'))\n",
        "def mayor(a,b):\n",
        "    if a>b:\n",
        "       print(f'{a} es el mayor')\n",
        "    else:\n",
        "        print(f'{b} es el mayor')\n",
        "mayor(a,b)        "
      ]
    },
    {
      "cell_type": "code",
      "source": [
        "#ejercicio 2\n",
        "a=int(input('ingresa un número'))\n",
        "b=int(input('ingresa un número'))\n",
        "c=int(input('ingresa un número'))\n",
        "def mayor2(a,b,c):\n",
        "  if a>b and a>c:\n",
        "    print(f'{a} es el mayor')\n",
        "  elif b>c and b>a:\n",
        "    print(f'{b} es el mayor')  \n",
        "  else:\n",
        "    print(f'{c} es el mayor')\n",
        "mayor2(a,b,c)      "
      ],
      "metadata": {
        "colab": {
          "base_uri": "https://localhost:8080/"
        },
        "id": "R2BD9CzugBhK",
        "outputId": "d00c382e-9061-4776-9052-84b12e720cde"
      },
      "execution_count": null,
      "outputs": [
        {
          "output_type": "stream",
          "name": "stdout",
          "text": [
            "ingresa un número3\n",
            "ingresa un número2\n",
            "ingresa un número1\n",
            "3 es el mayor\n"
          ]
        }
      ]
    },
    {
      "cell_type": "code",
      "source": [
        "#ejercicio 3\n",
        "lista=[a,b,c]\n",
        "#listsum = sum(lista)\n",
        "#print (f'la suma de la lista es {listsum}')\n",
        "def suma (lista):\n",
        "  resul=lista[0]+lista[1]+lista[2]\n",
        "  return resul\n",
        "  print (suma(lista))\n",
        "suma(lista)"
      ],
      "metadata": {
        "colab": {
          "base_uri": "https://localhost:8080/"
        },
        "id": "bwoAf67SgcUn",
        "outputId": "33cfe5e0-7b49-4f02-ce8c-e875a8cbdd16"
      },
      "execution_count": null,
      "outputs": [
        {
          "output_type": "execute_result",
          "data": {
            "text/plain": [
              "6"
            ]
          },
          "metadata": {},
          "execution_count": 27
        }
      ]
    },
    {
      "cell_type": "code",
      "source": [
        "#ejercicio 4\n",
        "a=int(input('ingresa un número'))\n",
        "b=int(input('ingresa un número'))\n",
        "c=int(input('ingresa un número'))\n",
        "d=int(input('ingresa un número'))\n",
        "sum4=[a,b,c,d]\n",
        "def suma (sum4):\n",
        "  resul=sum4[0]+sum4[1]+sum4[2]+sum4[3]\n",
        "  return resul\n",
        "  print (suma(sum4))\n",
        "suma(sum4)"
      ],
      "metadata": {
        "colab": {
          "base_uri": "https://localhost:8080/"
        },
        "id": "VTSIMZpvk3Cr",
        "outputId": "ba745103-6517-4e0e-c8d9-fb3dc27efd81"
      },
      "execution_count": null,
      "outputs": [
        {
          "name": "stdout",
          "output_type": "stream",
          "text": [
            "ingresa un número3\n",
            "ingresa un número2\n",
            "ingresa un número1\n",
            "ingresa un número4\n"
          ]
        },
        {
          "output_type": "execute_result",
          "data": {
            "text/plain": [
              "10"
            ]
          },
          "metadata": {},
          "execution_count": 16
        }
      ]
    },
    {
      "cell_type": "code",
      "source": [
        "#ejercicio 5\n",
        "\n",
        "def sumtotallist(x):\n",
        "  a=len (x)\n",
        "  resul=0\n",
        "  for i in range (a):\n",
        "    resul= x[i]+ resul\n",
        "  print (resul)\n",
        "sumtotallist(sum4)   "
      ],
      "metadata": {
        "colab": {
          "base_uri": "https://localhost:8080/"
        },
        "id": "TSgm27Nem4cI",
        "outputId": "533555d5-e291-4569-9e42-99eae77cd806"
      },
      "execution_count": null,
      "outputs": [
        {
          "output_type": "stream",
          "name": "stdout",
          "text": [
            "10\n"
          ]
        }
      ]
    },
    {
      "cell_type": "code",
      "source": [
        "#ejercicio 6\n",
        "multi=[a,b,c]\n",
        "#listsum = sum(lista)\n",
        "#print (f'la suma de la lista es {listsum}')\n",
        "def multiplicacion (multi):\n",
        "  resul=multi[0]*multi[1]*multi[2]\n",
        "  return resul\n",
        "  print (mult(multi))\n",
        "multiplicacion(multi)\n"
      ],
      "metadata": {
        "colab": {
          "base_uri": "https://localhost:8080/"
        },
        "id": "JT3IL8NlpDhW",
        "outputId": "ddfbc47c-eb43-4c91-83fc-190f5c1fae0a"
      },
      "execution_count": null,
      "outputs": [
        {
          "output_type": "execute_result",
          "data": {
            "text/plain": [
              "6"
            ]
          },
          "metadata": {},
          "execution_count": 29
        }
      ]
    },
    {
      "cell_type": "code",
      "source": [
        "#ejercicio 7\n",
        "a=int(input('ingresa un número'))\n",
        "b=int(input('ingresa un número'))\n",
        "c=int(input('ingresa un número'))\n",
        "d=int(input('ingresa un número'))\n",
        "multi2=[a,b,c,d]\n",
        "def multi (multi2):\n",
        "  resul=multi2[0]*multi2[1]*multi2[2]*multi2[3]\n",
        "  return resul\n",
        "  print (multi(multi2))\n",
        "multi(multi2)"
      ],
      "metadata": {
        "colab": {
          "base_uri": "https://localhost:8080/"
        },
        "id": "CsEv-Cxbu7Fj",
        "outputId": "d2302773-85b9-41dc-8f30-ed486ddf5a95"
      },
      "execution_count": null,
      "outputs": [
        {
          "name": "stdout",
          "output_type": "stream",
          "text": [
            "ingresa un número3\n",
            "ingresa un número3\n",
            "ingresa un número3\n",
            "ingresa un número3\n"
          ]
        },
        {
          "output_type": "execute_result",
          "data": {
            "text/plain": [
              "81"
            ]
          },
          "metadata": {},
          "execution_count": 30
        }
      ]
    },
    {
      "cell_type": "code",
      "source": [
        "#ejercicio 8\n",
        "def multotallist(g):\n",
        "  a=len (g)\n",
        "  resul=1\n",
        "  for i in range(a):\n",
        "    resul= g[i]* resul\n",
        "  print (resul)\n",
        "multotallist(multi2) "
      ],
      "metadata": {
        "colab": {
          "base_uri": "https://localhost:8080/"
        },
        "id": "4JcSbitUtsdr",
        "outputId": "78ef4fa2-023f-49c4-8cd7-87cef3680141"
      },
      "execution_count": null,
      "outputs": [
        {
          "output_type": "stream",
          "name": "stdout",
          "text": [
            "81\n"
          ]
        }
      ]
    },
    {
      "cell_type": "code",
      "source": [
        "#ejercicio 9\n",
        "\n",
        "def invertir_palabra(texto):\n",
        "  '''\n",
        "  texto es la palabra a analizar\n",
        "  regresa es el resultado\n",
        "\n",
        "  '''\n",
        "  if isinstance(texto, str):\n",
        "      resultado =''\n",
        "\n",
        "      for i in range(len(texto)-1,-1,-1):\n",
        "          resultado += texto[i]\n",
        "      return resultado\n",
        "palabra ='programación'\n",
        "resultado = invertir_palabra(palabra)\n",
        "print('palabra inicial:',palabra)\n",
        "print('palabra invertida:',resultado)"
      ],
      "metadata": {
        "colab": {
          "base_uri": "https://localhost:8080/"
        },
        "id": "RX47xERrhERl",
        "outputId": "83b53762-15be-4624-a20d-aa3d59b1eb31"
      },
      "execution_count": null,
      "outputs": [
        {
          "output_type": "stream",
          "name": "stdout",
          "text": [
            "palabra inicial: programación\n",
            "palabra invertida: nóicamargorp\n"
          ]
        }
      ]
    },
    {
      "cell_type": "code",
      "source": [
        "#ejercicio 10\n",
        "\n",
        "def factorial(nume):\n",
        "    if nume==0 or nume==1:\n",
        "        resultado = 1\n",
        "        print(resultado)\n",
        "    elif nume > 1:\n",
        "        resultado = nume * factorial(nume-1)\n",
        "        print(resultado)\n",
        "    return resultado\n",
        "\n",
        "sol= factorial(5)\n",
        "print(sol)\n"
      ],
      "metadata": {
        "id": "DlXn0HHVxoYy"
      },
      "execution_count": null,
      "outputs": []
    },
    {
      "cell_type": "code",
      "source": [
        "#ejercicio 11\n",
        "\n",
        "def dentro_de(num,inicio,final,):\n",
        "  \"\"\"\n",
        "  num es el numero que se ingresa\n",
        "  inicio: es la posicion inicial \n",
        "  final : es la posición final \n",
        "  \"\"\"\n",
        "  if num >=inicio and num <=final:\n",
        "    print('Pertenece al rango')\n",
        "  else:\n",
        "    print('no pertenece al rango')  \n",
        "\n",
        "dentro_de(4,3,8)\n"
      ],
      "metadata": {
        "colab": {
          "base_uri": "https://localhost:8080/"
        },
        "id": "C3bcGkLgD5SI",
        "outputId": "58e5c4d4-7861-477a-8b9e-13f91fd7604b"
      },
      "execution_count": null,
      "outputs": [
        {
          "output_type": "stream",
          "name": "stdout",
          "text": [
            "Pertenece al rango\n"
          ]
        }
      ]
    },
    {
      "cell_type": "code",
      "source": [
        "#ejercicio 12 y 13\n",
        "\n",
        "def contador_min_mayus(oracion):\n",
        "  contador = {'minúsculas':0,'mayúsculas':0}#almacenado en diccionario\n",
        "  for i in oracion:\n",
        "      if i.isupper():#este metodo evalua si la oración tiene letras mayusculas\n",
        "          contador['mayúsculas']+= 1\n",
        "      elif i.islower():#este metodo evalua si la oración tiene letras minusculas\n",
        "            contador['minúsculas']+= 1\n",
        "  return contador\n",
        "\n",
        "frase = ' El día de hoy están en integración la mayoria del salón'\n",
        "print(contador_min_mayus(frase))          \n"
      ],
      "metadata": {
        "colab": {
          "base_uri": "https://localhost:8080/"
        },
        "id": "NQEO5tQV_F5m",
        "outputId": "73957bd5-e4ad-42ca-93e4-566ca91bd6a2"
      },
      "execution_count": null,
      "outputs": [
        {
          "output_type": "stream",
          "name": "stdout",
          "text": [
            "{'minusculas': 44, 'mayusculas': 1}\n"
          ]
        }
      ]
    },
    {
      "cell_type": "code",
      "source": [
        "#ejercicio 14\n",
        "\n",
        "def numeros():\n",
        "  a=int(input('ingresa un número'))\n",
        "  b=int(input('ingresa un número'))\n",
        "  c=int(input('ingresa un número'))\n",
        "  d=int(input('ingresa un número'))\n",
        "  agarrar=[a,b,c,d]\n",
        "  return agarrar  \n",
        "def pares(agarrar):\n",
        "  for i in  agarrar:\n",
        "      if i % 2 ==0:\n",
        "        print(i,'es par')\n",
        "agarrar=numeros()\n",
        "pares(agarrar)\n",
        "\n",
        "  \n",
        "  \n",
        "\n"
      ],
      "metadata": {
        "colab": {
          "base_uri": "https://localhost:8080/"
        },
        "id": "2aFjPlRbJ9gK",
        "outputId": "b8813a46-3dc0-456b-e9bb-7c772cf9073d"
      },
      "execution_count": null,
      "outputs": [
        {
          "output_type": "stream",
          "name": "stdout",
          "text": [
            "ingresa un número2\n",
            "ingresa un número3\n",
            "ingresa un número5\n",
            "ingresa un número4\n",
            "2 es par\n",
            "4 es par\n"
          ]
        }
      ]
    },
    {
      "cell_type": "code",
      "source": [
        "#ejercicio 15\n",
        "\n",
        "def impares(agarrar):\n",
        "  x=len(agarrar)\n",
        "  for i in range(1,x,2):\n",
        "      print(agarrar[i])\n",
        "        \n",
        "impares(agarrar)"
      ],
      "metadata": {
        "colab": {
          "base_uri": "https://localhost:8080/"
        },
        "id": "g2H7w8cYMYBC",
        "outputId": "828b9d1f-59a4-4833-f8a3-4288d522e3be"
      },
      "execution_count": null,
      "outputs": [
        {
          "output_type": "stream",
          "name": "stdout",
          "text": [
            "3\n",
            "4\n"
          ]
        }
      ]
    },
    {
      "cell_type": "code",
      "source": [
        "#ejercicio 16 \n",
        "\n",
        "def perfecto(numero):\n",
        "  perf=0\n",
        "  for i in range (1,numero):\n",
        "    if numero %i==0:\n",
        "      perf+=i\n",
        "  if perf ==numero:\n",
        "    print('es numero perfecto')\n",
        "    return perf\n",
        "  else:\n",
        "     print('no es numero perfecto')\n",
        "numero=6\n",
        "perfecto (numero)          \n",
        "\n"
      ],
      "metadata": {
        "colab": {
          "base_uri": "https://localhost:8080/"
        },
        "id": "wYVaC5dyUApD",
        "outputId": "9ab22776-7bf5-4a58-da98-30f51f2c52d1"
      },
      "execution_count": 8,
      "outputs": [
        {
          "output_type": "stream",
          "name": "stdout",
          "text": [
            "es numero perfecto\n"
          ]
        },
        {
          "output_type": "execute_result",
          "data": {
            "text/plain": [
              "6"
            ]
          },
          "metadata": {},
          "execution_count": 8
        }
      ]
    },
    {
      "cell_type": "code",
      "source": [
        "#ejercicio 17\n",
        "def palindromo(texto):\n",
        "  a=invertir_palabra(texto).lower()\n",
        "  \n",
        "  if a == texto.lower():\n",
        "    print('es palindromo')\n",
        "  else:\n",
        "    print('no es palindromo')\n",
        "\n",
        "palindromo('Ana')\n",
        "  "
      ],
      "metadata": {
        "colab": {
          "base_uri": "https://localhost:8080/"
        },
        "id": "pz5kLkEtY7FW",
        "outputId": "ca3d5f86-643b-4982-95ed-71206503f3c1"
      },
      "execution_count": null,
      "outputs": [
        {
          "output_type": "stream",
          "name": "stdout",
          "text": [
            "ana\n",
            "es palindromo\n"
          ]
        }
      ]
    },
    {
      "cell_type": "code",
      "source": [
        "#ejercicio 18\n",
        "\n",
        "def pascal(numero):\n",
        "  p=[]\n",
        "  for i in range(1, numero+1): \n",
        "    C = 1\n",
        "    for j in range(1, i+1):\n",
        "             \n",
        "      C = C * (i - j) // j\n",
        "      p.append(C) \n",
        "  k=p[-numero:-1]\n",
        "  k.insert(0,1)\n",
        "  print(k)\n",
        "   \n",
        "        \n",
        "\n",
        "pascal(numero)"
      ],
      "metadata": {
        "id": "qaCg__9nbGLL",
        "colab": {
          "base_uri": "https://localhost:8080/"
        },
        "outputId": "4064b726-273e-46a6-c461-ea543c1781ac"
      },
      "execution_count": 9,
      "outputs": [
        {
          "output_type": "stream",
          "name": "stdout",
          "text": [
            "[1, 5, 10, 10, 5, 1]\n"
          ]
        }
      ]
    },
    {
      "cell_type": "code",
      "source": [
        "#ejercicio 19\n",
        "def tipo_oracion(frase):\n",
        "  print(frase.lower().capitalize())\n",
        "frase='este es el penultimo ejercicio del taller'\n",
        "tipo_oracion(frase)"
      ],
      "metadata": {
        "colab": {
          "base_uri": "https://localhost:8080/"
        },
        "id": "B6-hgHuWjmru",
        "outputId": "07be8b41-6d56-4a49-dcbc-95e46eaf146c"
      },
      "execution_count": 10,
      "outputs": [
        {
          "output_type": "stream",
          "name": "stdout",
          "text": [
            "Este es el penultimo ejercicio del taller\n"
          ]
        }
      ]
    },
    {
      "cell_type": "code",
      "source": [
        "#ejercicio 20\n",
        "\n",
        "def separador(palabras):\n",
        "    x = palabras.split(\" - \")\n",
        "    sorted(x)\n",
        "    print(x)\n",
        "   \n",
        "  \n",
        "palabras =('anillo,perro,sabanas,almohada')\n",
        "separador(palabras)\n",
        "\n",
        "\n"
      ],
      "metadata": {
        "colab": {
          "base_uri": "https://localhost:8080/"
        },
        "id": "GwNJYkY1xsuV",
        "outputId": "c91857d6-42cb-4863-a6b1-307d7955284c"
      },
      "execution_count": 64,
      "outputs": [
        {
          "output_type": "stream",
          "name": "stdout",
          "text": [
            "['anillo,perro,sabanas,almohada']\n"
          ]
        }
      ]
    }
  ]
}