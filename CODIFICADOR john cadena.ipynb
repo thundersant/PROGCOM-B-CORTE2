{
  "nbformat": 4,
  "nbformat_minor": 0,
  "metadata": {
    "colab": {
      "provenance": []
    },
    "kernelspec": {
      "name": "python3",
      "display_name": "Python 3"
    },
    "language_info": {
      "name": "python"
    }
  },
  "cells": [
    {
      "cell_type": "code",
      "execution_count": null,
      "metadata": {
        "colab": {
          "base_uri": "https://localhost:8080/"
        },
        "id": "5CEFOqTLE869",
        "outputId": "58957034-d156-4df8-8234-1598fbc1a10d"
      },
      "outputs": [
        {
          "output_type": "stream",
          "name": "stdout",
          "text": [
            "digite o copie el mensajeque se repite en unab y creative\n",
            "bqoisuto x emiz om qoñuso ro peo\n"
          ]
        }
      ],
      "source": [
        "mensaje =input('digite o copie el mensaje') #vocales 2 adelante, consonantes 1 atras\n",
        "   \n",
        "vocales_consonantes = {    \n",
        "    \n",
        "    'A': 'I', 'B': 'Z', 'C': 'B', 'D': 'C', 'E': 'O', 'F': 'D', \n",
        "    'G': 'F', 'H': 'G', 'I': 'U', 'J': 'H', 'K': 'J', 'L': 'K', \n",
        "    'M': 'L', 'N': 'M', 'Ñ':'N','O':'A','P':'Ñ','Q':'P','R':'Q', \n",
        "    'S': 'R', 'T': 'S', 'U': 'E', 'V': 'T', 'W': 'V', 'X': 'W', \n",
        "    'Y': 'X', 'Z': 'Y', 'Á':'Í', 'É':'Ó', 'Í':'Ú', 'Ó':'Á', 'Ú':'É',\n",
        "  \n",
        "    \n",
        "    'a': 'i', 'b': 'z', 'c': 'b', 'd': 'c', 'e': 'o', 'f': 'd', \n",
        "    'g': 'f', 'h': 'g', 'i': 'u', 'j': 'h', 'k': 'j', 'l': 'k', \n",
        "    'm': 'l', 'n': 'm', 'ñ':'n','o':'a','p':'ñ','q':'p','r':'q', \n",
        "    's': 'r', 't': 's', 'u': 'e', 'v': 't', 'w': 'v', 'x': 'w', \n",
        "    'y': 'x', 'z': 'y', 'á':'í', 'é':'ó', 'í':'ú', 'ó':'á', 'ú':'é'\n",
        "\n",
        "} \n",
        "  \n",
        "codificar_mensaje = \"\" \n",
        "  \n",
        "for i in range(0, len(mensaje)): \n",
        "    if mensaje[i] in vocales_consonantes.keys(): \n",
        "        codificar_mensaje += vocales_consonantes[mensaje[i]] \n",
        "    else: \n",
        "        codificar_mensaje += mensaje[i]\n",
        "        \n",
        "mensaje=codificar_mensaje.split()\n",
        "mensaje=mensaje[::-1]\n",
        "mensaje=\" \".join(mensaje)\n",
        "        \n",
        "print(mensaje)"
      ]
    }
  ]
}