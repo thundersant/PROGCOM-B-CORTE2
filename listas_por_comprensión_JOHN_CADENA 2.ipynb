{
  "nbformat": 4,
  "nbformat_minor": 0,
  "metadata": {
    "colab": {
      "provenance": []
    },
    "kernelspec": {
      "name": "python3",
      "display_name": "Python 3"
    },
    "language_info": {
      "name": "python"
    }
  },
  "cells": [
    {
      "cell_type": "code",
      "execution_count": null,
      "metadata": {
        "id": "-kzPUWgefAiE"
      },
      "outputs": [],
      "source": [
        "#lista por comprension\n",
        "#https://www.analyticslane.com/2019/09/23/listas-por-comprension-en-python/\n",
        "#https://www.tutorialesprogramacionya.com/pythonya/detalleconcepto.php?punto=94&codigo=95&inicio=90#:~:text=La%20comprensi%C3%B3n%20de%20listas%20es,forma%20m%C3%A1s%20concisa%20un%20algoritmo.\n",
        "\n",
        "#un programa que muestre en pantalla los números del 1 al 500, sustituyendo los múltiplos de 3 por el palabra \"mult 3\" y, a su vez, los múltiplos de 5 por \"mult 5\". \n",
        "#Para los números que, al tiempo, son múltiplos de 3 y 5, mostrar el mensaje \"FizzBuzz\".\n",
        "\n",
        "\n",
        "for nro in range (1,101):\n",
        "  if nro%3==0  and  nro%5==0:\n",
        "    print('mult de 3 y 5')\n",
        "  elif nro%3==0:\n",
        "    print('mult de 3')\n",
        "  elif nro%5==0:\n",
        "    print('mult de 5')\n",
        "  else:\n",
        "    print(nro)\n",
        "\n"
      ]
    },
    {
      "cell_type": "code",
      "source": [
        "print([\"mult de 3\"*(not nro%3) + \"mult de 5\"*(not nro%5) or nro for nro in range(1, 101)])"
      ],
      "metadata": {
        "colab": {
          "base_uri": "https://localhost:8080/"
        },
        "id": "utuSpSgFl7-y",
        "outputId": "e624a0c7-5471-4e07-d2f4-42382842ab6c"
      },
      "execution_count": null,
      "outputs": [
        {
          "output_type": "stream",
          "name": "stdout",
          "text": [
            "[1, 2, 'multiplo de 3', 4, 'multiplo de 5', 'multiplo de 3', 7, 8, 'multiplo de 3', 'multiplo de 5', 11, 'multiplo de 3', 13, 14, 'multiplo de 3multiplo de 5', 16, 17, 'multiplo de 3', 19, 'multiplo de 5', 'multiplo de 3', 22, 23, 'multiplo de 3', 'multiplo de 5', 26, 'multiplo de 3', 28, 29, 'multiplo de 3multiplo de 5', 31, 32, 'multiplo de 3', 34, 'multiplo de 5', 'multiplo de 3', 37, 38, 'multiplo de 3', 'multiplo de 5', 41, 'multiplo de 3', 43, 44, 'multiplo de 3multiplo de 5', 46, 47, 'multiplo de 3', 49, 'multiplo de 5', 'multiplo de 3', 52, 53, 'multiplo de 3', 'multiplo de 5', 56, 'multiplo de 3', 58, 59, 'multiplo de 3multiplo de 5', 61, 62, 'multiplo de 3', 64, 'multiplo de 5', 'multiplo de 3', 67, 68, 'multiplo de 3', 'multiplo de 5', 71, 'multiplo de 3', 73, 74, 'multiplo de 3multiplo de 5', 76, 77, 'multiplo de 3', 79, 'multiplo de 5', 'multiplo de 3', 82, 83, 'multiplo de 3', 'multiplo de 5', 86, 'multiplo de 3', 88, 89, 'multiplo de 3multiplo de 5', 91, 92, 'multiplo de 3', 94, 'multiplo de 5', 'multiplo de 3', 97, 98, 'multiplo de 3', 'multiplo de 5']\n"
          ]
        }
      ]
    },
    {
      "cell_type": "code",
      "source": [
        "#numero perfecto\n",
        "\n",
        "def perfecto(numero):\n",
        "  perf=0\n",
        "  for i in range (1,numero):\n",
        "    if numero %i==0:\n",
        "      perf+=i\n",
        "  if perf ==numero:\n",
        "    print('es numero perfecto')\n",
        "    return True\n",
        "  else:\n",
        "     print('no es numero perfecto')\n",
        "numero=6\n",
        "perfecto (numero)   "
      ],
      "metadata": {
        "colab": {
          "base_uri": "https://localhost:8080/"
        },
        "id": "loFDMhEtoc7p",
        "outputId": "688a83c6-456f-4e40-9bd7-a6c7f063ded3"
      },
      "execution_count": null,
      "outputs": [
        {
          "output_type": "stream",
          "name": "stdout",
          "text": [
            "es numero perfecto\n"
          ]
        },
        {
          "output_type": "execute_result",
          "data": {
            "text/plain": [
              "True"
            ]
          },
          "metadata": {},
          "execution_count": 6
        }
      ]
    },
    {
      "cell_type": "code",
      "source": [
        "def numeros():\n",
        "  a=int(input('ingresa un número'))\n",
        "  b=int(input('ingresa un número'))\n",
        "  c=int(input('ingresa un número'))\n",
        "  d=int(input('ingresa un número'))\n",
        "  perfect=[a,b,c,d]\n",
        "\n",
        "  perfect1=[elemento for elemento in perfect if perfecto(elemento)==True ]\n",
        "numeros()\n"
      ],
      "metadata": {
        "colab": {
          "base_uri": "https://localhost:8080/"
        },
        "id": "YnMEalWFohYx",
        "outputId": "a2cc9fc7-bcaa-45b5-d219-a3599a9650df"
      },
      "execution_count": null,
      "outputs": [
        {
          "output_type": "stream",
          "name": "stdout",
          "text": [
            "ingresa un número1\n",
            "ingresa un número2\n",
            "ingresa un número3\n",
            "ingresa un número6\n",
            "no es numero perfecto\n",
            "no es numero perfecto\n",
            "no es numero perfecto\n",
            "es numero perfecto\n"
          ]
        }
      ]
    },
    {
      "cell_type": "code",
      "source": [
        "lista=[2,3,6,4]\n",
        "#lambda y map\n",
        "perfect2=list(map(lambda elemento:perfecto(elemento)==True,lista))\n",
        "perfect2"
      ],
      "metadata": {
        "id": "91dWh-VPX8Bh"
      },
      "execution_count": null,
      "outputs": []
    },
    {
      "cell_type": "code",
      "source": [],
      "metadata": {
        "colab": {
          "base_uri": "https://localhost:8080/"
        },
        "id": "QYlVkVlLPI3_",
        "outputId": "76bb5a9d-fd92-41dd-d005-f68c23882982"
      },
      "execution_count": null,
      "outputs": [
        {
          "output_type": "stream",
          "name": "stdout",
          "text": [
            "no es numero perfecto\n",
            "no es numero perfecto\n",
            "es numero perfecto\n",
            "no es numero perfecto\n"
          ]
        },
        {
          "output_type": "execute_result",
          "data": {
            "text/plain": [
              "[False, False, True, False]"
            ]
          },
          "metadata": {},
          "execution_count": 14
        }
      ]
    },
    {
      "cell_type": "code",
      "source": [
        "#samuel\n",
        "\n",
        "numbers = [1, 2, 3, 4]\n",
        "results = [n + 1 for n in numbers if n < 5]\n",
        "results"
      ],
      "metadata": {
        "colab": {
          "base_uri": "https://localhost:8080/"
        },
        "id": "5m7DOD0rnQ23",
        "outputId": "9c66225a-058a-4406-9843-516ff76253d9"
      },
      "execution_count": null,
      "outputs": [
        {
          "output_type": "execute_result",
          "data": {
            "text/plain": [
              "[2, 3, 4, 5]"
            ]
          },
          "metadata": {},
          "execution_count": 15
        }
      ]
    },
    {
      "cell_type": "code",
      "source": [
        "results2=lambda numbers:results\n",
        "print(results2(numbers))"
      ],
      "metadata": {
        "id": "uoZ2kU26naV1"
      },
      "execution_count": null,
      "outputs": []
    },
    {
      "cell_type": "code",
      "source": [
        "#jesus\n",
        "n=int(input(\"Hasta que número quieres imprimir los pares e impares: \"))\n",
        "pares=[número for número in range(0,n+1) if número%2==0]\n",
        "print(pares)\n",
        "impares=[número for número in range(0,n+1) if número%2!=0]\n",
        "print(impares)"
      ],
      "metadata": {
        "id": "f3D-nC9rnjyt"
      },
      "execution_count": null,
      "outputs": []
    },
    {
      "cell_type": "code",
      "source": [
        "num=int(input(\"Hasta que número quieres imprimir los pares e impares: \"))\n",
        "def hola(n):\n",
        "  pares=[número for número in range(0,n+1) if número%2==0]\n",
        "  print(pares)\n",
        "  impares=[número for número in range(0,n+1) if número%2!=0]\n",
        "  print(impares)\n",
        "hola(num)"
      ],
      "metadata": {
        "id": "aqmOObHcnqBz"
      },
      "execution_count": null,
      "outputs": []
    },
    {
      "cell_type": "code",
      "source": [
        "num=int(input(\"Hasta que número quieres imprimir los pares e impares: \"))\n",
        "mi_lista=[n for n in range(0,num+1)]\n",
        "impares=list(filter(lambda num:num%2!=0,mi_lista))\n",
        "print(impares)\n",
        "pares=list(filter(lambda num:num%2==0,mi_lista))\n",
        "print(pares)"
      ],
      "metadata": {
        "id": "hXo4HPkanvbr"
      },
      "execution_count": null,
      "outputs": []
    },
    {
      "cell_type": "code",
      "source": [
        "#juan david\n",
        "#lambda y filter\n",
        "import random\n",
        "num1=[random.randint(0,2000)for x in range(100)]\n",
        "num2=[random.randint(0,2000)for x in range(100)]\n",
        "comun=[]\n",
        "comun= list(filter(lambda num:num in num1,num2))\n",
        "print(comun)\n",
        "\n",
        "\n"
      ],
      "metadata": {
        "id": "ksUe2UFfn0Fj",
        "colab": {
          "base_uri": "https://localhost:8080/"
        },
        "outputId": "9ae0d347-0c1f-4b6e-e7fd-b1496a78a900"
      },
      "execution_count": null,
      "outputs": [
        {
          "output_type": "stream",
          "name": "stdout",
          "text": [
            "[369, 1503, 1543, 793]\n"
          ]
        }
      ]
    },
    {
      "cell_type": "code",
      "source": [
        "#clasico\n",
        "num1=[random.randint(0,2000)for x in range(100)]\n",
        "num2=[random.randint(0,2000)for x in range(100)]\n",
        "comun=[]\n",
        "for a in num1:\n",
        "  for b in num2:\n",
        "    if a == b:\n",
        "      comun.append(a)\n",
        "print(comun)"
      ],
      "metadata": {
        "colab": {
          "base_uri": "https://localhost:8080/"
        },
        "id": "MzOcciDhp-nE",
        "outputId": "28318644-a20c-4796-8cb9-878dc7c089fc"
      },
      "execution_count": null,
      "outputs": [
        {
          "output_type": "stream",
          "name": "stdout",
          "text": [
            "[1713, 904, 799, 1967, 670, 1035]\n"
          ]
        }
      ]
    },
    {
      "cell_type": "code",
      "source": [
        "#comprensión\n",
        "import random\n",
        "num1=[random.randint(0,2000)for x in range(100)]\n",
        "num2=[random.randint(0,2000)for x in range(100)]\n",
        "comun1=[(x,y) for x in  num1 for y in num2 if x==y]\n",
        "print(comun1)"
      ],
      "metadata": {
        "colab": {
          "base_uri": "https://localhost:8080/"
        },
        "id": "ioPNzsvun79l",
        "outputId": "a2e676aa-7be2-4c92-b3fd-e3def074dcd5"
      },
      "execution_count": null,
      "outputs": [
        {
          "output_type": "stream",
          "name": "stdout",
          "text": [
            "[(753, 753), (619, 619), (1754, 1754)]\n"
          ]
        }
      ]
    },
    {
      "cell_type": "code",
      "source": [
        "#DANIEL\n",
        "#LAMBDA\n",
        "lambda_fun =lambda x:x**2\n",
        "lambda_fun(3)\n"
      ],
      "metadata": {
        "id": "AcXFNa3qpBIk"
      },
      "execution_count": null,
      "outputs": []
    },
    {
      "cell_type": "code",
      "source": [
        "#tradicional\n",
        "def square1(num):\n",
        "  return num**2\n",
        "print(square1(5))"
      ],
      "metadata": {
        "id": "y1q5YEVRrWpZ"
      },
      "execution_count": null,
      "outputs": []
    },
    {
      "cell_type": "code",
      "source": [
        "#comprensión\n",
        "\n",
        "L=[2,4,6,8]\n",
        "L2=[n**2 for n in L]\n",
        "print(L2)"
      ],
      "metadata": {
        "id": "j2Tn0u9IrkUh"
      },
      "execution_count": null,
      "outputs": []
    },
    {
      "cell_type": "code",
      "source": [
        "#angie\n",
        "#compresión\n",
        "nom1=['samuel','angie','valentina','alejandro','johnsito']\n",
        "nom2=['samuel','andrea','sandra','anderson','johnsito']\n",
        "common={a for a in nom1 for b in nom2 if a == b}\n",
        "common"
      ],
      "metadata": {
        "colab": {
          "base_uri": "https://localhost:8080/"
        },
        "id": "lCzSfjYasAN5",
        "outputId": "0433838a-bc4f-4d6b-8f21-a0b2a45cbc08"
      },
      "execution_count": null,
      "outputs": [
        {
          "output_type": "execute_result",
          "data": {
            "text/plain": [
              "{'johnsito', 'samuel'}"
            ]
          },
          "metadata": {},
          "execution_count": 2
        }
      ]
    },
    {
      "cell_type": "code",
      "source": [
        "#LAMBDA\n",
        "common1=lambda nom1,nom2:common\n",
        "print(common1(nom1,nom2))"
      ],
      "metadata": {
        "colab": {
          "base_uri": "https://localhost:8080/"
        },
        "id": "eAtwAjTPs7F3",
        "outputId": "799a7f0b-2670-451c-9970-36f7b05c799e"
      },
      "execution_count": null,
      "outputs": [
        {
          "output_type": "stream",
          "name": "stdout",
          "text": [
            "{'samuel', 'johnsito'}\n"
          ]
        }
      ]
    },
    {
      "cell_type": "code",
      "source": [
        "#funciones\n",
        "def common(nom1,nom2):\n",
        "  return nom1 ,nom2"
      ],
      "metadata": {
        "id": "2q68HBFetkGR"
      },
      "execution_count": null,
      "outputs": []
    },
    {
      "cell_type": "code",
      "source": [
        "#Valentina\n",
        "#tracidional\n",
        "def listaIMC(usuarios):\n",
        "  sis =[]\n",
        "  imc= []\n",
        "  b=0\n",
        "  a2=0\n",
        "  for n in range (usuarios):\n",
        "    w=input('nombre')\n",
        "    b=int(input('peso'))\n",
        "    a2=int(input('altura'))\n",
        "    sis.append((w,b/a2**2))\n",
        "    imc.append(b/a2**2)\n",
        "  return sis,imc\n",
        "user=int(input('total usuarios'))\n",
        "sis,imc=listaIMC(user)\n"
      ],
      "metadata": {
        "colab": {
          "base_uri": "https://localhost:8080/"
        },
        "id": "0pA9myofuTlv",
        "outputId": "36842553-414e-430c-8992-fbbbea8dd916"
      },
      "execution_count": null,
      "outputs": [
        {
          "name": "stdout",
          "output_type": "stream",
          "text": [
            "total usuarios5\n",
            "nombrejlkhlk\n",
            "peso56\n",
            "altura45\n",
            "nombregghgf\n",
            "peso45\n",
            "altura34\n",
            "nombrettrf\n",
            "peso34\n",
            "altura545\n",
            "nombretyy\n",
            "peso676\n",
            "altura76\n",
            "nombrertrtt\n",
            "peso67\n",
            "altura45\n"
          ]
        }
      ]
    },
    {
      "cell_type": "code",
      "source": [
        "#comprensión\n",
        "sis=listaIMC(user)\n",
        "sis2=[n for n in imc if n>= 18.5]\n",
        "print(sis2)"
      ],
      "metadata": {
        "id": "UUr_s4bHxSCw"
      },
      "execution_count": null,
      "outputs": []
    },
    {
      "cell_type": "code",
      "source": [
        "#lambda\n",
        "sis3=list(map(lambda x:'peso insuficiente' if x<18.5 else 'peso normal'if (x>=18.5 and x<30)else 'obesidad',imc))\n",
        "sis3"
      ],
      "metadata": {
        "colab": {
          "base_uri": "https://localhost:8080/"
        },
        "id": "krLuIgLKyRPr",
        "outputId": "7da9ed96-c96a-4066-babc-c27995339979"
      },
      "execution_count": null,
      "outputs": [
        {
          "output_type": "execute_result",
          "data": {
            "text/plain": [
              "['peso insuficiente',\n",
              " 'peso insuficiente',\n",
              " 'peso insuficiente',\n",
              " 'peso insuficiente',\n",
              " 'peso insuficiente']"
            ]
          },
          "metadata": {},
          "execution_count": 13
        }
      ]
    },
    {
      "cell_type": "code",
      "source": [
        "#LUIS MIGUEL\n",
        "\n",
        "#NORMAL\n",
        "print('código')\n",
        "caracter=input()\n",
        "if len(caracter)==8:\n",
        "  if caracter[0]=='U':\n",
        "    print('unab')\n",
        "  elif(caracter.startswith('a000')):\n",
        "    print('andes')\n",
        "  else:\n",
        "    if(int(caracter)>=1950):\n",
        "      print('UIS')\n",
        "else:\n",
        "  print('no hay universidad')\n"
      ],
      "metadata": {
        "id": "JQL6fZ2rzO36"
      },
      "execution_count": null,
      "outputs": []
    },
    {
      "cell_type": "code",
      "source": [
        "#comprensión\n",
        "universidades=['unab','UIS','andes']\n",
        "código=['U0123456','198562','a0005645']\n",
        "u=[cod for cod in código if (cod[0]=='U'and len(cod)==8)]\n",
        "print(u)"
      ],
      "metadata": {
        "id": "wIuWOKvY0bHX"
      },
      "execution_count": null,
      "outputs": []
    },
    {
      "cell_type": "code",
      "source": [
        "#LAMBDA\n",
        "y=list(map(lambda x:'unab' if (x[0]=='U' or x[0]=='u') else None, código))\n",
        "print(y)"
      ],
      "metadata": {
        "id": "c5c0gVVe1cxy"
      },
      "execution_count": null,
      "outputs": []
    },
    {
      "cell_type": "code",
      "source": [
        "#CRISTIAN\n",
        "lista=[]\n",
        "x=0\n",
        "while x==0:\n",
        "  entrada = input('ingresa un código')\n",
        "  lista.append(entrada)\n",
        "  a=int(input('¿ingresar otro?','ingresa 0 para si, ingresa 1 para no'))\n",
        "  if(a==1):\n",
        "    x=x+1\n",
        "clasificación =[a for a in lista if a.startswith('U00') and len(a)==9]\n",
        "print(f'hay{len(clasificación)}estudiante(s) de la unab y sus códigos son{clasificación}')\n",
        "\n",
        "clasificación =[a for a in lista if a.startswith('A000') and len(a)==9]\n",
        "print(f'hay{len(clasificación)}estudiante(s) de los Andes y sus códigos son{clasificación}')\n",
        "\n"
      ],
      "metadata": {
        "id": "l2p6NGcY2WxP"
      },
      "execution_count": null,
      "outputs": []
    },
    {
      "cell_type": "code",
      "source": [
        "def funcion(lista,numDigitos, universidad,clasCodigo):\n",
        "  clasificación =[a for a in lista if a.startswith(clasCodigo) and len(a)==numDigitos]\n",
        "  print(f'hay {len(clasificación)} estudiantes de {universidad}y sus codigos son {clasificación}')\n",
        "lista=[]\n",
        "x=0\n",
        "while x==0:\n",
        "  entrada = input('ingresa codigo')\n",
        "  lista.append(entrada)\n",
        "  a=int(input('desea ingresar otro, ingresa 0 para si, ingresa ,sino ingresa 1'))\n",
        "  if(a==1):\n",
        "    x=x+1\n",
        "funcion(lista,9,'la unab','U00')\n",
        "funcion (lista,9,'los andes','A000')\n"
      ],
      "metadata": {
        "id": "sKjDDPr945pR"
      },
      "execution_count": null,
      "outputs": []
    },
    {
      "cell_type": "code",
      "source": [
        "#LAMBDA\n",
        "lista1=['U00013246','A001234643','U00156837']\n",
        "clasificacion = list(map(lambda a:print(f'hay {len(clasificacion)} estudiante(s) de la unab') if a.startswith('U00') or a.startswith('U00') else print(f'hay'{len(clasificacion)}"
      ],
      "metadata": {
        "id": "tIzl0AhuCy6M"
      },
      "execution_count": null,
      "outputs": []
    }
  ]
}