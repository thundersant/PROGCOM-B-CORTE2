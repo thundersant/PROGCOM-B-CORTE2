{
  "nbformat": 4,
  "nbformat_minor": 0,
  "metadata": {
    "colab": {
      "provenance": [],
      "collapsed_sections": []
    },
    "kernelspec": {
      "name": "python3",
      "display_name": "Python 3"
    },
    "language_info": {
      "name": "python"
    }
  },
  "cells": [
    {
      "cell_type": "code",
      "execution_count": 4,
      "metadata": {
        "colab": {
          "base_uri": "https://localhost:8080/"
        },
        "id": "SrlPCyh7Ci2f",
        "outputId": "cd635bd2-5d9e-4bae-dd78-39f6add1ac22"
      },
      "outputs": [
        {
          "output_type": "stream",
          "name": "stdout",
          "text": [
            "digite o copie el mensajebam (iqqix) ñoqramir co kursica em sqisa \"x a \" sqeba qoikumiq coroi ro ru emcepeo ko ro peo ik ñqafqili em bqoiq:   -malzqo -ocic -bomsulosqar om ikseqi\n",
            "altura en -centimetros -edad -nombre crear: un programa al que se le unduque si se desea realinar truco \" o \"y trato un listado de personas (array) con\n"
          ]
        }
      ],
      "source": [
        "mensaje =input('digite o copie el mensaje') # VOCALES 2 ATRAS, CONSONANTES 1 ADELANTE\n",
        "   \n",
        "vocales_consonantes = {    \n",
        "    \n",
        "    'A': 'O', 'B': 'C', 'C': 'D', 'D': 'F', 'E': 'U', 'F': 'G', \n",
        "    'G': 'H', 'H': 'J', 'I': 'A', 'J': 'K', 'K': 'L', 'L': 'M', \n",
        "    'M': 'N', 'N': 'Ñ', 'Ñ':'P','O':'E','P':'Q','Q':'R','R':'S', \n",
        "    'S': 'T', 'T': 'V', 'U': 'I', 'V': 'W', 'W': 'X', 'X': 'Y', \n",
        "    'Y': 'Z', 'Z': 'B', 'Á':'Ó', 'É':'Ú', 'Í':'Á', 'Ó':'É', 'Ú':'Í',\n",
        "  \n",
        "    \n",
        "    'a': 'o', 'b': 'c', 'c': 'd', 'd': 'f', 'e': 'u', 'f': 'g', \n",
        "    'g': 'h', 'h': 'j', 'i': 'a', 'j': 'k', 'k': 'l', 'l': 'm', \n",
        "    'm': 'n', 'n': 'ñ', 'ñ':'p', 'o': 'e', 'p': 'q', 'q': 'r', 'r': 's', \n",
        "    's': 't', 't': 'v', 'u': 'i', 'v': 'w', 'w': 'x', 'x': 'y', \n",
        "    'y': 'z', 'z': 'b', 'á':'ó', 'é':'ú', 'í':'á', 'ó':'é', 'ú':'í'\n",
        "} \n",
        "  \n",
        "decodificar_mensaje = \"\" \n",
        "  \n",
        "  \n",
        "for i in range(0, len(mensaje)): \n",
        "    if mensaje[i] in vocales_consonantes.keys(): \n",
        "        decodificar_mensaje += vocales_consonantes[mensaje[i]] \n",
        "    else: \n",
        "        decodificar_mensaje += mensaje[i]\n",
        "        \n",
        "mensaje=decodificar_mensaje.split()\n",
        "mensaje=mensaje[::-1]\n",
        "mensaje=\" \".join(mensaje)\n",
        "        \n",
        "print(mensaje)"
      ]
    },
    {
      "cell_type": "markdown",
      "source": [
        "crear: un programa al que se le indique si se desea realizar truco \" o \"y trato un listado de personas (array) con altura en -centimetros -edad -nombre\n",
        "\n",
        "si las: personas han pedido eltruco, programa retornara sustos aleatorios, siguiendo los siguientes criterios:\n",
        "un susto por cada 2 letras del nombre por persona\n",
        "dos sustos por cada edad que sea un número par\n",
        "tres sustos por cada 100cm de altura entre todas las personas aceptados "
      ],
      "metadata": {
        "id": "rPGtQFOa7Kdx"
      }
    },
    {
      "cell_type": "markdown",
      "source": [],
      "metadata": {
        "id": "8cAM0cOENNXN"
      }
    }
  ]
}