{
  "nbformat": 4,
  "nbformat_minor": 0,
  "metadata": {
    "colab": {
      "provenance": []
    },
    "kernelspec": {
      "name": "python3",
      "display_name": "Python 3"
    },
    "language_info": {
      "name": "python"
    }
  },
  "cells": [
    {
      "cell_type": "code",
      "execution_count": 47,
      "metadata": {
        "id": "j_Ji3x6LTPMA"
      },
      "outputs": [],
      "source": [
        "class saiayin(object):\n",
        "  def  __init__ (self,nombre,estatura):\n",
        "    self.nombre=nombre\n",
        "    self._ccabello='negro'\n",
        "    self._cojos='negro'\n",
        "    self._cola_mono=True\n",
        "    self._estatura=estatura\n",
        "  def cambio_color(self,putisteria):\n",
        "    if putisteria>=4000 and putisteria<100000:\n",
        "      self.ccabello='rubio'\n",
        "      self.cojos='aguamarina'\n",
        "    elif putisteria>=100000 and putisteria<200000:\n",
        "      self.ccabello='rojo'\n",
        "      self.cojos='rosita'\n",
        "    elif putisteria>=200000 and putisteria<500000:\n",
        "      self.ccabello='azul'\n",
        "      self.cojos='azul azul'\n",
        "    elif putisteria>=500000 and putisteria<1000000:\n",
        "      self.ccabello='cenizo'\n",
        "      self.cojos='plateado'\n",
        "    else:\n",
        "      self.ccabello='negro'\n",
        "      self.cojos='negro'\n",
        "  def trabajo(self,t):\n",
        "    if t==1: print(self.nombre,'es guerrero')\n",
        "    elif t==2: print(f'{self.nombre}es liendra de freezer')\n",
        "    elif t==3: print(f'{self.nombre}es mercenario')\n",
        "    elif t==4: print(f'{self.nombre}es de la realeza')\n",
        "    else: print(self.nombre,'es  nini xD')\n",
        "    \n"
      ]
    },
    {
      "cell_type": "code",
      "source": [
        "class Humano(object):\n",
        "  def  __init__ (self,nombre,ccabello,cojos,estatura):\n",
        "    self.nombre=nombre\n",
        "    self._ccabello=ccabello\n",
        "    self.cojos=cojos\n",
        "    self.estatura=estatura\n",
        "  def cambio_color(self,tinte):\n",
        "    if tinte==1:\n",
        "      self.ccabello='rubio'\n",
        "      self.cojos='aguamarina'\n",
        "    elif tinte==2:\n",
        "      self.ccabello='rojo'\n",
        "      self.cojos='rosita'\n",
        "    elif tinte==3:\n",
        "      self.ccabello='azul'\n",
        "      self.cojos='azul azul'\n",
        "    elif tinte==4:\n",
        "      self.ccabello='cenizo'\n",
        "      self.cojos='plateado'\n",
        "    else:\n",
        "      self.ccabello='ocre'\n",
        "      self.cojos='miel'\n",
        "  def trabajo(self,t):\n",
        "    if t==1: print(self.nombre,'es periodista')\n",
        "    elif t==2: print(f'{self.nombre}es politico')\n",
        "    elif t==3: print(f'{self.nombre}es patrulla roja')\n",
        "    elif t==4: print(f'{self.nombre}trabaja en capsule corp')\n",
        "    else: print(self.nombre,'es  nini xD')"
      ],
      "metadata": {
        "id": "D8YuXk-0aUVF"
      },
      "execution_count": 48,
      "outputs": []
    },
    {
      "cell_type": "code",
      "source": [
        "class Hibrido(saiayin,Humano):\n",
        "  def __init__(self,_ccabello,cojos,nombre,estatura):\n",
        "    super().__init__(nombre,estatura)\n",
        "    self.ccabello=_ccabello\n",
        "    self.cojos=cojos\n",
        "\n",
        "  def cambio_color(self,a):\n",
        "    super().cambio_color(a)\n",
        "    self.ccabello='blanco'\n",
        "    self.cojos='rojos'\n"
      ],
      "metadata": {
        "id": "i4JJh60GdWAQ"
      },
      "execution_count": 58,
      "outputs": []
    },
    {
      "cell_type": "code",
      "source": [
        "saya1=saiayin('Johnsito',180)"
      ],
      "metadata": {
        "id": "pqr3A1-QUmKJ"
      },
      "execution_count": 59,
      "outputs": []
    },
    {
      "cell_type": "code",
      "source": [
        "human=Humano('carlito','negro','marron',170)"
      ],
      "metadata": {
        "id": "N4XrIAC6bpBJ"
      },
      "execution_count": 60,
      "outputs": []
    },
    {
      "cell_type": "code",
      "source": [
        "saya1.__dict__"
      ],
      "metadata": {
        "colab": {
          "base_uri": "https://localhost:8080/"
        },
        "id": "bG0zBKpxViv5",
        "outputId": "11ac35fe-747e-4798-9010-95f9a697056e"
      },
      "execution_count": 53,
      "outputs": [
        {
          "output_type": "execute_result",
          "data": {
            "text/plain": [
              "{'nombre': 'Johnsito',\n",
              " '_ccabello': 'negro',\n",
              " '_cojos': 'negro',\n",
              " '_cola_mono': True,\n",
              " '_estatura': 180}"
            ]
          },
          "metadata": {},
          "execution_count": 53
        }
      ]
    },
    {
      "cell_type": "code",
      "source": [
        "human.__dict__"
      ],
      "metadata": {
        "colab": {
          "base_uri": "https://localhost:8080/"
        },
        "id": "KRHmsprqb8mJ",
        "outputId": "00e870b1-3d86-418b-bec1-bdc1c4d20487"
      },
      "execution_count": 54,
      "outputs": [
        {
          "output_type": "execute_result",
          "data": {
            "text/plain": [
              "{'nombre': 'carlito', '_ccabello': 'negro', 'cojos': 'marron', 'estatura': 170}"
            ]
          },
          "metadata": {},
          "execution_count": 54
        }
      ]
    },
    {
      "cell_type": "code",
      "source": [
        "saya1.__saiayin__cola_mono=False"
      ],
      "metadata": {
        "id": "cukrZv_-VDpZ"
      },
      "execution_count": 55,
      "outputs": []
    },
    {
      "cell_type": "code",
      "source": [
        "Persona=Hibrido('negro','negro','gohan',180)\n",
        "Persona.cambio_color(4)"
      ],
      "metadata": {
        "id": "XesNn8OFci7J"
      },
      "execution_count": 62,
      "outputs": []
    }
  ]
}