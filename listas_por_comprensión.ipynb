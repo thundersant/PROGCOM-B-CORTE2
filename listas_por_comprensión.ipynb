{
  "nbformat": 4,
  "nbformat_minor": 0,
  "metadata": {
    "colab": {
      "provenance": []
    },
    "kernelspec": {
      "name": "python3",
      "display_name": "Python 3"
    },
    "language_info": {
      "name": "python"
    }
  },
  "cells": [
    {
      "cell_type": "code",
      "execution_count": null,
      "metadata": {
        "id": "-kzPUWgefAiE"
      },
      "outputs": [],
      "source": [
        "#lista por comprension\n",
        "#https://www.analyticslane.com/2019/09/23/listas-por-comprension-en-python/\n",
        "#https://www.tutorialesprogramacionya.com/pythonya/detalleconcepto.php?punto=94&codigo=95&inicio=90#:~:text=La%20comprensi%C3%B3n%20de%20listas%20es,forma%20m%C3%A1s%20concisa%20un%20algoritmo.\n",
        "\n",
        "#un programa que muestre en pantalla los números del 1 al 500, sustituyendo los múltiplos de 3 por el palabra \"mult 3\" y, a su vez, los múltiplos de 5 por \"mult 5\". \n",
        "#Para los números que, al tiempo, son múltiplos de 3 y 5, mostrar el mensaje \"FizzBuzz\".\n",
        "\n",
        "\n",
        "for nro in range (1,101):\n",
        "  if nro%3==0  and  nro%5==0:\n",
        "    print('mult de 3 y 5')\n",
        "  elif nro%3==0:\n",
        "    print('mult de 3')\n",
        "  elif nro%5==0:\n",
        "    print('mult de 5')\n",
        "  else:\n",
        "    print(nro)\n",
        "\n"
      ]
    },
    {
      "cell_type": "code",
      "source": [
        "print([\"mult de 3\"*(not nro%3) + \"mult de 5\"*(not nro%5) or nro for nro in range(1, 101)])"
      ],
      "metadata": {
        "colab": {
          "base_uri": "https://localhost:8080/"
        },
        "id": "utuSpSgFl7-y",
        "outputId": "e624a0c7-5471-4e07-d2f4-42382842ab6c"
      },
      "execution_count": 7,
      "outputs": [
        {
          "output_type": "stream",
          "name": "stdout",
          "text": [
            "[1, 2, 'multiplo de 3', 4, 'multiplo de 5', 'multiplo de 3', 7, 8, 'multiplo de 3', 'multiplo de 5', 11, 'multiplo de 3', 13, 14, 'multiplo de 3multiplo de 5', 16, 17, 'multiplo de 3', 19, 'multiplo de 5', 'multiplo de 3', 22, 23, 'multiplo de 3', 'multiplo de 5', 26, 'multiplo de 3', 28, 29, 'multiplo de 3multiplo de 5', 31, 32, 'multiplo de 3', 34, 'multiplo de 5', 'multiplo de 3', 37, 38, 'multiplo de 3', 'multiplo de 5', 41, 'multiplo de 3', 43, 44, 'multiplo de 3multiplo de 5', 46, 47, 'multiplo de 3', 49, 'multiplo de 5', 'multiplo de 3', 52, 53, 'multiplo de 3', 'multiplo de 5', 56, 'multiplo de 3', 58, 59, 'multiplo de 3multiplo de 5', 61, 62, 'multiplo de 3', 64, 'multiplo de 5', 'multiplo de 3', 67, 68, 'multiplo de 3', 'multiplo de 5', 71, 'multiplo de 3', 73, 74, 'multiplo de 3multiplo de 5', 76, 77, 'multiplo de 3', 79, 'multiplo de 5', 'multiplo de 3', 82, 83, 'multiplo de 3', 'multiplo de 5', 86, 'multiplo de 3', 88, 89, 'multiplo de 3multiplo de 5', 91, 92, 'multiplo de 3', 94, 'multiplo de 5', 'multiplo de 3', 97, 98, 'multiplo de 3', 'multiplo de 5']\n"
          ]
        }
      ]
    },
    {
      "cell_type": "code",
      "source": [
        "#numero perfecto\n",
        "\n",
        "def perfecto(numero):\n",
        "  perf=0\n",
        "  for i in range (1,numero):\n",
        "    if numero %i==0:\n",
        "      perf+=i\n",
        "  if perf ==numero:\n",
        "    print('es numero perfecto')\n",
        "    return True\n",
        "  else:\n",
        "     print('no es numero perfecto')\n",
        "numero=6\n",
        "perfecto (numero)   "
      ],
      "metadata": {
        "colab": {
          "base_uri": "https://localhost:8080/"
        },
        "id": "loFDMhEtoc7p",
        "outputId": "53bab505-e7c6-45a5-c1e1-d983a8516de7"
      },
      "execution_count": 8,
      "outputs": [
        {
          "output_type": "stream",
          "name": "stdout",
          "text": [
            "es numero perfecto\n"
          ]
        },
        {
          "output_type": "execute_result",
          "data": {
            "text/plain": [
              "True"
            ]
          },
          "metadata": {},
          "execution_count": 8
        }
      ]
    },
    {
      "cell_type": "code",
      "source": [
        "def numeros():\n",
        "  a=int(input('ingresa un número'))\n",
        "  b=int(input('ingresa un número'))\n",
        "  c=int(input('ingresa un número'))\n",
        "  d=int(input('ingresa un número'))\n",
        "  perfect=[a,b,c,d]\n",
        "\n",
        "  perfect1=[elemento for elemento in perfect if perfecto(elemento)==True ]\n",
        "numeros()\n"
      ],
      "metadata": {
        "colab": {
          "base_uri": "https://localhost:8080/"
        },
        "id": "YnMEalWFohYx",
        "outputId": "64cb650b-0225-4678-d758-099460fdbde9"
      },
      "execution_count": 11,
      "outputs": [
        {
          "output_type": "stream",
          "name": "stdout",
          "text": [
            "ingresa un número3\n",
            "ingresa un número6\n",
            "ingresa un número8\n",
            "ingresa un número9\n",
            "no es numero perfecto\n",
            "es numero perfecto\n",
            "no es numero perfecto\n",
            "no es numero perfecto\n"
          ]
        }
      ]
    }
  ]
}