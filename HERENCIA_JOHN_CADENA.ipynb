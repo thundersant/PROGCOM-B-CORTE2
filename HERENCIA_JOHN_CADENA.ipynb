{
  "nbformat": 4,
  "nbformat_minor": 0,
  "metadata": {
    "colab": {
      "provenance": []
    },
    "kernelspec": {
      "name": "python3",
      "display_name": "Python 3"
    },
    "language_info": {
      "name": "python"
    }
  },
  "cells": [
    {
      "cell_type": "code",
      "execution_count": 10,
      "metadata": {
        "colab": {
          "base_uri": "https://localhost:8080/",
          "height": 130
        },
        "id": "QepAgdl6hAnl",
        "outputId": "fd69f46f-ad36-4b70-e3ab-eefb167b29ae"
      },
      "outputs": [
        {
          "output_type": "error",
          "ename": "IndentationError",
          "evalue": "ignored",
          "traceback": [
            "\u001b[0;36m  File \u001b[0;32m\"<tokenize>\"\u001b[0;36m, line \u001b[0;32m29\u001b[0m\n\u001b[0;31m    else:\u001b[0m\n\u001b[0m    ^\u001b[0m\n\u001b[0;31mIndentationError\u001b[0m\u001b[0;31m:\u001b[0m unindent does not match any outer indentation level\n"
          ]
        }
      ],
      "source": [
        "class humano():\n",
        "  def __init__(self,ojos,cabello,boca,orejas,nariz,dientes,lengua,pestañas,cejas,brazos,piernas,pies,manos,dedos,sexo,estatura,peso,Rh,nombre):\n",
        "    self.ojos=ojos\n",
        "    self.cabello=cabello\n",
        "    self.boca=boca\n",
        "    self.orejas=orejas\n",
        "    self.nariz=nariz\n",
        "    self.dientes=dientes\n",
        "    self.lengua=lengua\n",
        "    self.pestañas=pestañas\n",
        "    self.cejas=cejas\n",
        "    self.brazos=brazos\n",
        "    self.piernas=piernas\n",
        "    self.pies=pies\n",
        "    self.manos=manos\n",
        "    self.dedos=dedos\n",
        "    self.sexo=sexo\n",
        "    self.estatura=estatura\n",
        "    self.peso=peso\n",
        "    self.Rh=Rh\n",
        "    self.nombre=nombre\n",
        "\n",
        "  def movilizarce(self,vel):\n",
        "\n",
        "     if vel<0:\n",
        "      return f'{self.nombre}está retrocediendo'\n",
        "      vel=-vel\n",
        "      return vel\n",
        "    else:\n",
        "      return f'{self.nombre} va pa lante'\n",
        "\n",
        "    if vel==0\n",
        "    return f'{self.nombre} está esperando que lo hagán mover'\n",
        "    elif vel>0 and vel<=1:\n",
        "      return f'{self.nombre}está gateando'\n",
        "    elif vel>1 and vel<=5:\n",
        "      return f'{self.nombre}está caminando'\n",
        "    elif vel>5 and vel<=5.9:\n",
        "     return f'{self.nombre}está trotando'\n",
        "    elif vel>5.9 and vel<=10:\n",
        "     return f'{self.nombre}está corriendo'\n",
        "    elif vel>10 and vel<=700:\n",
        "     return f'{self.nombre}está volando'\n",
        "    else:\n",
        "      return f'{self.nombre}posible humano'\n",
        "\n",
        "\n",
        "  def trabajar(self,trabajo):\n",
        "    trabajos=['desempleado','obrero','policia','operario','trabajador','docente','politico']\n",
        "    if trabajos [trabajo] in trabajo:\n",
        "      if trabajo==0:\n",
        "        print(self.nombre,'está',trabajos[trabajo])\n",
        "      else:\n",
        "        print(self.nombre,'está',trabajos[trabajo])\n",
        "      else:\n",
        "        print(self.nombre,'es',trabajos[trabajo])\n",
        "\n",
        "\n",
        "\n",
        "\n",
        "    \n",
        "    \n",
        "   \n"
      ]
    },
    {
      "cell_type": "code",
      "source": [
        "class Sayayin():\n",
        "\n",
        "  def __init__(self,ojos,cabello,boca,orejas,nariz,dientes,lengua,pestañas,cejas,brazos,piernas,pies,manos,dedos,sexo,estatura,peso,Rh,nombre,cola):\n",
        "    self.ojos=ojos\n",
        "    self.cabello=cabello\n",
        "    self.boca=boca\n",
        "    self.orejas=orejas\n",
        "    self.nariz=nariz\n",
        "    self.dientes=dientes\n",
        "    self.lengua=lengua\n",
        "    self.pestañas=pestañas\n",
        "    self.cejas=cejas\n",
        "    self.brazos=brazos\n",
        "    self.piernas=piernas\n",
        "    self.pies=pies\n",
        "    self.manos=manos\n",
        "    self.dedos=dedos\n",
        "    self.sexo=sexo\n",
        "    self.estatura=estatura\n",
        "    self.peso=peso\n",
        "    self.Rh=Rh\n",
        "    self.nombre=nombre\n",
        "\n",
        "  def movilizarce(self,vel):\n",
        "\n",
        "     if vel<0:\n",
        "      return f'{self.nombre}está retrocediendo'\n",
        "      vel=-vel\n",
        "      return vel\n",
        "    else:\n",
        "      return f'{self.nombre} va pa lante'\n",
        "\n",
        "    if vel==0\n",
        "    return f'{self.nombre} está esperando que lo hagán mover'\n",
        "    elif vel>0 and vel<=1:\n",
        "      return f'{self.nombre}está gateando'\n",
        "    elif vel>1 and vel<=5:\n",
        "      return f'{self.nombre}está caminando'\n",
        "    elif vel>5 and vel<=5.9:\n",
        "     return f'{self.nombre}está trotando'\n",
        "    elif vel>5.9 and vel<=10:\n",
        "     return f'{self.nombre}está corriendo'\n",
        "    elif vel>10 and vel<=700:\n",
        "     return f'{self.nombre}está volando'\n",
        "    else:\n",
        "      return f'{self.nombre}posible humano'\n",
        "\n",
        "\n",
        "  def trabajar(self,trabajo):\n",
        "    trabajos=['guerrero','mercenario','granjero','rey','principe']\n",
        "    if trabajos [trabajo] in trabajo:\n",
        "      if trabajo==0:\n",
        "        print(self.nombre,'está',trabajos)\n",
        "      else:\n",
        "        print(self.nombre,'está',trabajos[trabajo])\n",
        "      else:\n",
        "        print(self.nombre,'posiblemente no es sayayin')\n",
        "\n",
        "  def transformación(self,luna)\n",
        "    if luna and self.cola:\n",
        "      return f'{self.nombre}se transforma en mono'\n",
        "    elif luna and self.cola==False:\n",
        "      return f'{self.nombre}no se transforma en mono'\n",
        "    else:\n",
        "      return f'{self.nombre}no se transforma en mono'\n",
        "\n"
      ],
      "metadata": {
        "colab": {
          "base_uri": "https://localhost:8080/",
          "height": 130
        },
        "id": "3vCPybjBtCHM",
        "outputId": "22770c2a-d26f-41f9-8a0e-d5757e7d04a0"
      },
      "execution_count": 8,
      "outputs": [
        {
          "output_type": "error",
          "ename": "IndentationError",
          "evalue": "ignored",
          "traceback": [
            "\u001b[0;36m  File \u001b[0;32m\"<tokenize>\"\u001b[0;36m, line \u001b[0;32m30\u001b[0m\n\u001b[0;31m    else:\u001b[0m\n\u001b[0m    ^\u001b[0m\n\u001b[0;31mIndentationError\u001b[0m\u001b[0;31m:\u001b[0m unindent does not match any outer indentation level\n"
          ]
        }
      ]
    },
    {
      "cell_type": "code",
      "source": [
        "class Hibridos(sayayin,Humano):#herencia multiple\n",
        "  pass\n",
        "\n",
        "gohan=Hibridos('gohan',2,1,2,2,2,'blanco',1,8,10,'M')"
      ],
      "metadata": {
        "id": "5HUmxJvXvudV"
      },
      "execution_count": null,
      "outputs": []
    }
  ]
}