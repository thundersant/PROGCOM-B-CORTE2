{
  "nbformat": 4,
  "nbformat_minor": 0,
  "metadata": {
    "colab": {
      "provenance": []
    },
    "kernelspec": {
      "name": "python3",
      "display_name": "Python 3"
    },
    "language_info": {
      "name": "python"
    }
  },
  "cells": [
    {
      "cell_type": "code",
      "execution_count": null,
      "metadata": {
        "id": "NoQ4JbpkNcby"
      },
      "outputs": [],
      "source": [
        "\n",
        "\n",
        "def calcularEdad (añoActual, añoDeNacimiento):\n",
        "    edad = añoActual - añoDeNacimiento\n",
        "    return edad\n",
        "añoActual= int(input('digite el Año actual'))\n",
        "añoDeNacimientoMio=int (input('digite su año de nacimiento'))\n",
        "añoDeNacimientoAmigo=int (input('digite el año de nacimiento de su amigo'))\n",
        "miEdad=calcularEdad(añoActual,añoDeNacimientoMio)\n",
        "Amigo=calcularEdad(añoActual,añoDeNacimientoAmigo)\n",
        "print(f'mi edad es:{miEdad}, y la de mi aigo es:{Amigo}')\n",
        "\n",
        "\n",
        "\n"
      ]
    }
  ]
}